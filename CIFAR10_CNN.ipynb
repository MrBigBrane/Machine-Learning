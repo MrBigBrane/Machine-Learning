{
  "nbformat": 4,
  "nbformat_minor": 0,
  "metadata": {
    "colab": {
      "provenance": [],
      "authorship_tag": "ABX9TyNTDWDcKl/nIFlf6j6AE8xS",
      "include_colab_link": true
    },
    "kernelspec": {
      "name": "python3",
      "display_name": "Python 3"
    },
    "language_info": {
      "name": "python"
    }
  },
  "cells": [
    {
      "cell_type": "markdown",
      "metadata": {
        "id": "view-in-github",
        "colab_type": "text"
      },
      "source": [
        "<a href=\"https://colab.research.google.com/github/MrBigBrane/Machine-Learning/blob/main/CIFAR10_CNN.ipynb\" target=\"_parent\"><img src=\"https://colab.research.google.com/assets/colab-badge.svg\" alt=\"Open In Colab\"/></a>"
      ]
    },
    {
      "cell_type": "code",
      "execution_count": null,
      "metadata": {
        "id": "9pwUG9hJS611"
      },
      "outputs": [],
      "source": [
        "# import libraries\n",
        "import numpy as np\n",
        "\n",
        "import torch\n",
        "import torch.nn as nn\n",
        "import torch.nn.functional as F\n",
        "import copy\n",
        "from sklearn.model_selection import train_test_split\n",
        "\n",
        "# for importing data\n",
        "import torchvision\n",
        "import torchvision.transforms as T\n",
        "from torch.utils.data import TensorDataset,DataLoader,random_split\n",
        "\n",
        "import matplotlib.pyplot as plt\n",
        "import matplotlib_inline.backend_inline\n",
        "matplotlib_inline.backend_inline.set_matplotlib_formats('svg')"
      ]
    },
    {
      "cell_type": "code",
      "source": [
        "# use GPU if available\n",
        "device = torch.device('cuda:0' if torch.cuda.is_available() else 'cpu')"
      ],
      "metadata": {
        "id": "ZmiwE84oeldo"
      },
      "execution_count": null,
      "outputs": []
    },
    {
      "cell_type": "code",
      "source": [
        "# Define the transformations to apply to the data\n",
        "transform = T.Compose(\n",
        "    [T.ToTensor(),\n",
        "     T.Normalize((0.5, 0.5, 0.5), (0.5, 0.5, 0.5))])"
      ],
      "metadata": {
        "id": "mxLQGsMQS9IQ"
      },
      "execution_count": null,
      "outputs": []
    },
    {
      "cell_type": "code",
      "source": [
        "cifdata = torchvision.datasets.CIFAR10(root='cifar10',download=True, transform=transform)"
      ],
      "metadata": {
        "colab": {
          "base_uri": "https://localhost:8080/"
        },
        "id": "Y1Qkpw8xTEhl",
        "outputId": "20ba669b-7009-49f6-de50-f7e073d6ff14"
      },
      "execution_count": null,
      "outputs": [
        {
          "output_type": "stream",
          "name": "stdout",
          "text": [
            "Files already downloaded and verified\n"
          ]
        }
      ]
    },
    {
      "cell_type": "code",
      "source": [
        "print(cifdata.data.shape)\n",
        "\n",
        "images = torch.tensor(cifdata.data).permute(0, 3, 1, 2).float()\n",
        "print('\\nTensor data:')\n",
        "print(images.shape)  # Output: (50000, 3, 32, 32)"
      ],
      "metadata": {
        "colab": {
          "base_uri": "https://localhost:8080/"
        },
        "id": "eP0JOIYCTHD8",
        "outputId": "eb55c2ee-c81e-4766-fc5c-5fc30c4da15f"
      },
      "execution_count": null,
      "outputs": [
        {
          "output_type": "stream",
          "name": "stdout",
          "text": [
            "(50000, 32, 32, 3)\n",
            "\n",
            "Tensor data:\n",
            "torch.Size([50000, 3, 32, 32])\n"
          ]
        }
      ]
    },
    {
      "cell_type": "code",
      "source": [
        "labels = torch.tensor(cifdata.targets)\n",
        "print(labels.shape)"
      ],
      "metadata": {
        "colab": {
          "base_uri": "https://localhost:8080/"
        },
        "id": "_KZhVmLAUWXi",
        "outputId": "924a0e15-35a4-4cde-9cfb-62bc2724af66"
      },
      "execution_count": null,
      "outputs": [
        {
          "output_type": "stream",
          "name": "stdout",
          "text": [
            "torch.Size([50000])\n"
          ]
        }
      ]
    },
    {
      "cell_type": "markdown",
      "source": [
        "Split data"
      ],
      "metadata": {
        "id": "AKWC4zQBURtb"
      }
    },
    {
      "cell_type": "code",
      "source": [
        "partitions = [.8,.1,.1]\n",
        "\n",
        "# split the data (note the third input, and the TMP in the variable name)\n",
        "train_data,testTMP_data, train_labels,testTMP_labels = \\\n",
        "                   train_test_split(images, labels, train_size=partitions[0])\n",
        "\n",
        "# now split the TMP data\n",
        "split = partitions[1] / np.sum(partitions[1:])\n",
        "devset_data,test_data, devset_labels,test_labels = \\\n",
        "              train_test_split(testTMP_data, testTMP_labels, train_size=partitions[1])"
      ],
      "metadata": {
        "id": "yn-5oJ6tTeTm"
      },
      "execution_count": null,
      "outputs": []
    },
    {
      "cell_type": "code",
      "source": [
        "train_data = TensorDataset(train_data,train_labels)\n",
        "dev_data   = TensorDataset(devset_data,devset_labels)\n",
        "test_data  = TensorDataset(test_data,test_labels)\n",
        "\n",
        "train_loader = DataLoader(train_data,batch_size=32,shuffle=True,drop_last=True)\n",
        "dev_loader   = DataLoader(dev_data,batch_size=dev_data.tensors[0].shape[0])\n",
        "test_loader  = DataLoader(test_data,batch_size=test_data.tensors[0].shape[0])"
      ],
      "metadata": {
        "id": "UXbTQqY4dKKX"
      },
      "execution_count": null,
      "outputs": []
    },
    {
      "cell_type": "code",
      "source": [
        "# create a class for the model\n",
        "def makeTheNet(printtoggle=False):\n",
        "\n",
        "  class cifar10net(nn.Module):\n",
        "    def __init__(self,printtoggle):\n",
        "      super().__init__()\n",
        "\n",
        "      # print toggle\n",
        "      self.print = printtoggle\n",
        "\n",
        "      ### -------------- feature map layers -------------- ###\n",
        "      # first convolution layer\n",
        "      self.conv1  = nn.Conv2d(3,12,3,padding=1)\n",
        "      self.bnorm1 = nn.BatchNorm2d(12) # input the number of channels in this layer\n",
        "      # output size: (32+2*1-3)/1 + 1 = 32/2 = 16 (/2 b/c maxpool)\n",
        "\n",
        "      # second convolution layer\n",
        "      self.conv2  = nn.Conv2d(12,48,3,padding=1)\n",
        "      self.bnorm2 = nn.BatchNorm2d(48) # input the number of channels in this layer\n",
        "      # output size: (16+2*1-3)/1 + 1 = 16/2 = 8 (/2 b/c maxpool)\n",
        "\n",
        "      # third convolution layer\n",
        "      self.conv3  = nn.Conv2d(48,192,3,padding=1)\n",
        "      self.bnorm3 = nn.BatchNorm2d(192) # input the number of channels in this layer\n",
        "      # output size: (16+2*1-3)/1 + 1 = 16/2 = 8 (/2 b/c maxpool)\n",
        "\n",
        "      ### -------------- linear decision layers -------------- ###\n",
        "      self.fc1 = nn.Linear(4*4*192,50)\n",
        "      self.fc2 = nn.Linear(50,26)\n",
        "\n",
        "      self.dropout = nn.Dropout(.5)\n",
        "\n",
        "    def forward(self,x):\n",
        "\n",
        "      if self.print: print(f'Input: {list(x.shape)}')\n",
        "\n",
        "      # first block: convolution -> maxpool -> batchnorm -> relu\n",
        "      x = F.max_pool2d(self.conv1(x),2)\n",
        "      x = F.relu(self.bnorm1(x))\n",
        "      if self.print: print(f'First CPR block: {list(x.shape)}')\n",
        "\n",
        "      # second block: convolution -> maxpool -> batchnorm -> relu\n",
        "      x = F.max_pool2d(self.conv2(x),2)\n",
        "      x = F.relu(self.bnorm2(x))\n",
        "      if self.print: print(f'Second CPR block: {list(x.shape)}')\n",
        "\n",
        "      # third block: convolution -> maxpool -> batchnorm -> relu\n",
        "      x = F.max_pool2d(self.conv3(x),2)\n",
        "      x = F.relu(self.bnorm3(x))\n",
        "      if self.print: print(f'Third CPR block: {list(x.shape)}')\n",
        "\n",
        "      # reshape for linear layer\n",
        "      nUnits = x.shape.numel()/x.shape[0]\n",
        "      x = x.view(-1,int(nUnits))\n",
        "      if self.print: print(f'Vectorized: {list(x.shape)}')\n",
        "\n",
        "      # linear layers\n",
        "      x = self.dropout(x)\n",
        "      x = F.relu(self.fc1(x))\n",
        "      x = self.fc2(x)\n",
        "      if self.print: print(f'Final output: {list(x.shape)}')\n",
        "\n",
        "      return x\n",
        "\n",
        "  # create the model instance\n",
        "  net = cifar10net(printtoggle)\n",
        "\n",
        "  # loss function\n",
        "  lossfun = nn.CrossEntropyLoss()\n",
        "\n",
        "  # optimizer\n",
        "  optimizer = torch.optim.Adam(net.parameters(),lr=.001)\n",
        "\n",
        "  return net,lossfun,optimizer"
      ],
      "metadata": {
        "id": "nz5cCe2CdcQi"
      },
      "execution_count": null,
      "outputs": []
    },
    {
      "cell_type": "code",
      "source": [
        "# test the model with one batch\n",
        "net,lossfun,optimizer = makeTheNet(True)\n",
        "\n",
        "X,y = next(iter(train_loader))\n",
        "yHat = net(X)\n",
        "\n",
        "# check size of output\n",
        "print('\\nOutput size:')\n",
        "print(yHat.shape)\n",
        "\n",
        "# # now let's compute the loss\n",
        "loss = lossfun(yHat,torch.squeeze(y))\n",
        "print(' ')\n",
        "print('Loss:')\n",
        "print(loss)"
      ],
      "metadata": {
        "colab": {
          "base_uri": "https://localhost:8080/"
        },
        "id": "J-2wh3GAePlg",
        "outputId": "5a4ded29-7529-4a70-ab3a-cf1b1d0a8b3b"
      },
      "execution_count": null,
      "outputs": [
        {
          "output_type": "stream",
          "name": "stdout",
          "text": [
            "Input: [32, 3, 32, 32]\n",
            "First CPR block: [32, 12, 16, 16]\n",
            "Second CPR block: [32, 48, 8, 8]\n",
            "Third CPR block: [32, 192, 4, 4]\n",
            "Vectorized: [32, 3072]\n",
            "Final output: [32, 26]\n",
            "\n",
            "Output size:\n",
            "torch.Size([32, 26])\n",
            " \n",
            "Loss:\n",
            "tensor(3.4852, grad_fn=<NllLossBackward0>)\n"
          ]
        }
      ]
    },
    {
      "cell_type": "code",
      "source": [
        "def function2trainTheModel():\n",
        "\n",
        "  # number of epochs\n",
        "  numepochs = 10\n",
        "\n",
        "  # create a new model\n",
        "  net,lossfun,optimizer = makeTheNet()\n",
        "\n",
        "  # send the model to the GPU\n",
        "  net.to(device)\n",
        "\n",
        "  # initialize losses\n",
        "  trainLoss = torch.zeros(numepochs)\n",
        "  testLoss  = torch.zeros(numepochs)\n",
        "  devLoss   = torch.zeros(numepochs)\n",
        "  devErr    = torch.zeros(numepochs)\n",
        "  trainErr  = torch.zeros(numepochs)\n",
        "  testErr   = torch.zeros(numepochs)\n",
        "\n",
        "\n",
        "  # loop over epochs\n",
        "  for epochi in range(numepochs):\n",
        "\n",
        "    # loop over training data batches\n",
        "    net.train()\n",
        "    batchLoss = []\n",
        "    batchErr  = []\n",
        "    for X,y in train_loader:\n",
        "\n",
        "      # push data to GPU\n",
        "      X = X.to(device)\n",
        "      y = y.to(device)\n",
        "\n",
        "      # forward pass and loss\n",
        "      yHat = net(X)\n",
        "      loss = lossfun(yHat,y)\n",
        "\n",
        "      # backprop\n",
        "      optimizer.zero_grad()\n",
        "      loss.backward()\n",
        "      optimizer.step()\n",
        "\n",
        "      # loss and error from this batch\n",
        "      batchLoss.append(loss.item())\n",
        "      batchErr.append( torch.mean((torch.argmax(yHat,axis=1) != y).float()).item() )\n",
        "    # end of batch loop...\n",
        "\n",
        "    # and get average losses and error rates across the batches\n",
        "    trainLoss[epochi] = np.mean(batchLoss)\n",
        "    trainErr[epochi]  = 100*np.mean(batchErr)\n",
        "\n",
        "\n",
        "\n",
        "    ### test performance\n",
        "    net.eval()\n",
        "    X,y = next(iter(dev_loader)) # extract X,y from test dataloader\n",
        "\n",
        "    # push data to GPU\n",
        "    X = X.to(device)\n",
        "    y = y.to(device)\n",
        "\n",
        "    with torch.no_grad(): # deactivates autograd\n",
        "      yHat = net(X)\n",
        "      loss = lossfun(yHat,y)\n",
        "\n",
        "    # get loss and error rate from the test batch\n",
        "    devLoss[epochi] = loss.item()\n",
        "    devErr[epochi]  = 100*torch.mean((torch.argmax(yHat,axis=1) != y).float()).item()\n",
        "\n",
        "  # end epochs\n",
        "  net.eval()\n",
        "  X,y = next(iter(test_loader)) # extract X,y from test dataloader\n",
        "\n",
        "  # push data to GPU\n",
        "  X = X.to(device)\n",
        "  y = y.to(device)\n",
        "\n",
        "  with torch.no_grad(): # deactivates autograd\n",
        "    yHat = net(X)\n",
        "    loss = lossfun(yHat,y)\n",
        "\n",
        "  # get loss and error rate from the test batch\n",
        "  testLoss[epochi] = loss.item()\n",
        "  testErr[epochi]  = 100*torch.mean((torch.argmax(yHat,axis=1) != y).float()).item()\n",
        "\n",
        "  # function output\n",
        "  return trainLoss,devLoss, testLoss,trainErr, devErr, testErr,net"
      ],
      "metadata": {
        "id": "1e7L92gpeR0g"
      },
      "execution_count": null,
      "outputs": []
    },
    {
      "cell_type": "code",
      "source": [
        "# ~2 minutes with 10 epochs on GPU (8 mins on the CPU!)\n",
        "trainLoss, devLoss, testLoss, trainErr, devErr, testErr,net = function2trainTheModel()"
      ],
      "metadata": {
        "id": "Y6zm4ykeepu-"
      },
      "execution_count": null,
      "outputs": []
    },
    {
      "cell_type": "code",
      "source": [
        "fig,ax = plt.subplots(1,2,figsize=(16,5))\n",
        "\n",
        "ax[0].plot(trainLoss,'s-',label='Train')\n",
        "ax[0].plot(devLoss,'o-',label='Dev')\n",
        "ax[0].plot([9], testLoss[-1], marker='*')\n",
        "ax[0].set_xlabel('Epochs')\n",
        "ax[0].set_ylabel('Loss (MSE)')\n",
        "ax[0].set_title('Model loss')\n",
        "\n",
        "ax[1].plot(trainErr,'s-',label='Train')\n",
        "ax[1].plot(devErr,'o-',label='Dev')\n",
        "ax[1].plot([9], testErr[-1], marker='*')\n",
        "ax[1].set_xlabel('Epochs')\n",
        "ax[1].set_ylabel('Error rates (%)')\n",
        "ax[1].set_title(f'Final model test error rate: {testErr[-1]:.2f}%')\n",
        "ax[1].legend()\n",
        "\n",
        "plt.show()"
      ],
      "metadata": {
        "colab": {
          "base_uri": "https://localhost:8080/",
          "height": 490
        },
        "id": "UP43RPd8faoW",
        "outputId": "7be76bb1-97c1-4d7f-cb45-fc049ff6f146"
      },
      "execution_count": null,
      "outputs": [
        {
          "output_type": "display_data",
          "data": {
            "text/plain": [
              "<Figure size 1600x500 with 2 Axes>"
            ],
            "image/svg+xml": "<?xml version=\"1.0\" encoding=\"utf-8\" standalone=\"no\"?>\n<!DOCTYPE svg PUBLIC \"-//W3C//DTD SVG 1.1//EN\"\n  \"http://www.w3.org/Graphics/SVG/1.1/DTD/svg11.dtd\">\n<svg xmlns:xlink=\"http://www.w3.org/1999/xlink\" width=\"943.78125pt\" height=\"337.074375pt\" viewBox=\"0 0 943.78125 337.074375\" xmlns=\"http://www.w3.org/2000/svg\" version=\"1.1\">\n <metadata>\n  <rdf:RDF xmlns:dc=\"http://purl.org/dc/elements/1.1/\" xmlns:cc=\"http://creativecommons.org/ns#\" xmlns:rdf=\"http://www.w3.org/1999/02/22-rdf-syntax-ns#\">\n   <cc:Work>\n    <dc:type rdf:resource=\"http://purl.org/dc/dcmitype/StillImage\"/>\n    <dc:date>2025-01-01T08:15:02.747325</dc:date>\n    <dc:format>image/svg+xml</dc:format>\n    <dc:creator>\n     <cc:Agent>\n      <dc:title>Matplotlib v3.8.0, https://matplotlib.org/</dc:title>\n     </cc:Agent>\n    </dc:creator>\n   </cc:Work>\n  </rdf:RDF>\n </metadata>\n <defs>\n  <style type=\"text/css\">*{stroke-linejoin: round; stroke-linecap: butt}</style>\n </defs>\n <g id=\"figure_1\">\n  <g id=\"patch_1\">\n   <path d=\"M 0 337.074375 \nL 943.78125 337.074375 \nL 943.78125 0 \nL 0 0 \nz\n\" style=\"fill: #ffffff\"/>\n  </g>\n  <g id=\"axes_1\">\n   <g id=\"patch_2\">\n    <path d=\"M 43.78125 299.518125 \nL 449.599432 299.518125 \nL 449.599432 22.318125 \nL 43.78125 22.318125 \nz\n\" style=\"fill: #ffffff\"/>\n   </g>\n   <g id=\"matplotlib.axis_1\">\n    <g id=\"xtick_1\">\n     <g id=\"line2d_1\">\n      <defs>\n       <path id=\"m7d8fad994f\" d=\"M 0 0 \nL 0 3.5 \n\" style=\"stroke: #000000; stroke-width: 0.8\"/>\n      </defs>\n      <g>\n       <use xlink:href=\"#m7d8fad994f\" x=\"62.227531\" y=\"299.518125\" style=\"stroke: #000000; stroke-width: 0.8\"/>\n      </g>\n     </g>\n     <g id=\"text_1\">\n      <!-- 0 -->\n      <g transform=\"translate(59.046281 314.116563) scale(0.1 -0.1)\">\n       <defs>\n        <path id=\"DejaVuSans-30\" d=\"M 2034 4250 \nQ 1547 4250 1301 3770 \nQ 1056 3291 1056 2328 \nQ 1056 1369 1301 889 \nQ 1547 409 2034 409 \nQ 2525 409 2770 889 \nQ 3016 1369 3016 2328 \nQ 3016 3291 2770 3770 \nQ 2525 4250 2034 4250 \nz\nM 2034 4750 \nQ 2819 4750 3233 4129 \nQ 3647 3509 3647 2328 \nQ 3647 1150 3233 529 \nQ 2819 -91 2034 -91 \nQ 1250 -91 836 529 \nQ 422 1150 422 2328 \nQ 422 3509 836 4129 \nQ 1250 4750 2034 4750 \nz\n\" transform=\"scale(0.015625)\"/>\n       </defs>\n       <use xlink:href=\"#DejaVuSans-30\"/>\n      </g>\n     </g>\n    </g>\n    <g id=\"xtick_2\">\n     <g id=\"line2d_2\">\n      <g>\n       <use xlink:href=\"#m7d8fad994f\" x=\"144.211002\" y=\"299.518125\" style=\"stroke: #000000; stroke-width: 0.8\"/>\n      </g>\n     </g>\n     <g id=\"text_2\">\n      <!-- 2 -->\n      <g transform=\"translate(141.029752 314.116563) scale(0.1 -0.1)\">\n       <defs>\n        <path id=\"DejaVuSans-32\" d=\"M 1228 531 \nL 3431 531 \nL 3431 0 \nL 469 0 \nL 469 531 \nQ 828 903 1448 1529 \nQ 2069 2156 2228 2338 \nQ 2531 2678 2651 2914 \nQ 2772 3150 2772 3378 \nQ 2772 3750 2511 3984 \nQ 2250 4219 1831 4219 \nQ 1534 4219 1204 4116 \nQ 875 4013 500 3803 \nL 500 4441 \nQ 881 4594 1212 4672 \nQ 1544 4750 1819 4750 \nQ 2544 4750 2975 4387 \nQ 3406 4025 3406 3419 \nQ 3406 3131 3298 2873 \nQ 3191 2616 2906 2266 \nQ 2828 2175 2409 1742 \nQ 1991 1309 1228 531 \nz\n\" transform=\"scale(0.015625)\"/>\n       </defs>\n       <use xlink:href=\"#DejaVuSans-32\"/>\n      </g>\n     </g>\n    </g>\n    <g id=\"xtick_3\">\n     <g id=\"line2d_3\">\n      <g>\n       <use xlink:href=\"#m7d8fad994f\" x=\"226.194473\" y=\"299.518125\" style=\"stroke: #000000; stroke-width: 0.8\"/>\n      </g>\n     </g>\n     <g id=\"text_3\">\n      <!-- 4 -->\n      <g transform=\"translate(223.013223 314.116563) scale(0.1 -0.1)\">\n       <defs>\n        <path id=\"DejaVuSans-34\" d=\"M 2419 4116 \nL 825 1625 \nL 2419 1625 \nL 2419 4116 \nz\nM 2253 4666 \nL 3047 4666 \nL 3047 1625 \nL 3713 1625 \nL 3713 1100 \nL 3047 1100 \nL 3047 0 \nL 2419 0 \nL 2419 1100 \nL 313 1100 \nL 313 1709 \nL 2253 4666 \nz\n\" transform=\"scale(0.015625)\"/>\n       </defs>\n       <use xlink:href=\"#DejaVuSans-34\"/>\n      </g>\n     </g>\n    </g>\n    <g id=\"xtick_4\">\n     <g id=\"line2d_4\">\n      <g>\n       <use xlink:href=\"#m7d8fad994f\" x=\"308.177944\" y=\"299.518125\" style=\"stroke: #000000; stroke-width: 0.8\"/>\n      </g>\n     </g>\n     <g id=\"text_4\">\n      <!-- 6 -->\n      <g transform=\"translate(304.996694 314.116563) scale(0.1 -0.1)\">\n       <defs>\n        <path id=\"DejaVuSans-36\" d=\"M 2113 2584 \nQ 1688 2584 1439 2293 \nQ 1191 2003 1191 1497 \nQ 1191 994 1439 701 \nQ 1688 409 2113 409 \nQ 2538 409 2786 701 \nQ 3034 994 3034 1497 \nQ 3034 2003 2786 2293 \nQ 2538 2584 2113 2584 \nz\nM 3366 4563 \nL 3366 3988 \nQ 3128 4100 2886 4159 \nQ 2644 4219 2406 4219 \nQ 1781 4219 1451 3797 \nQ 1122 3375 1075 2522 \nQ 1259 2794 1537 2939 \nQ 1816 3084 2150 3084 \nQ 2853 3084 3261 2657 \nQ 3669 2231 3669 1497 \nQ 3669 778 3244 343 \nQ 2819 -91 2113 -91 \nQ 1303 -91 875 529 \nQ 447 1150 447 2328 \nQ 447 3434 972 4092 \nQ 1497 4750 2381 4750 \nQ 2619 4750 2861 4703 \nQ 3103 4656 3366 4563 \nz\n\" transform=\"scale(0.015625)\"/>\n       </defs>\n       <use xlink:href=\"#DejaVuSans-36\"/>\n      </g>\n     </g>\n    </g>\n    <g id=\"xtick_5\">\n     <g id=\"line2d_5\">\n      <g>\n       <use xlink:href=\"#m7d8fad994f\" x=\"390.161415\" y=\"299.518125\" style=\"stroke: #000000; stroke-width: 0.8\"/>\n      </g>\n     </g>\n     <g id=\"text_5\">\n      <!-- 8 -->\n      <g transform=\"translate(386.980165 314.116563) scale(0.1 -0.1)\">\n       <defs>\n        <path id=\"DejaVuSans-38\" d=\"M 2034 2216 \nQ 1584 2216 1326 1975 \nQ 1069 1734 1069 1313 \nQ 1069 891 1326 650 \nQ 1584 409 2034 409 \nQ 2484 409 2743 651 \nQ 3003 894 3003 1313 \nQ 3003 1734 2745 1975 \nQ 2488 2216 2034 2216 \nz\nM 1403 2484 \nQ 997 2584 770 2862 \nQ 544 3141 544 3541 \nQ 544 4100 942 4425 \nQ 1341 4750 2034 4750 \nQ 2731 4750 3128 4425 \nQ 3525 4100 3525 3541 \nQ 3525 3141 3298 2862 \nQ 3072 2584 2669 2484 \nQ 3125 2378 3379 2068 \nQ 3634 1759 3634 1313 \nQ 3634 634 3220 271 \nQ 2806 -91 2034 -91 \nQ 1263 -91 848 271 \nQ 434 634 434 1313 \nQ 434 1759 690 2068 \nQ 947 2378 1403 2484 \nz\nM 1172 3481 \nQ 1172 3119 1398 2916 \nQ 1625 2713 2034 2713 \nQ 2441 2713 2670 2916 \nQ 2900 3119 2900 3481 \nQ 2900 3844 2670 4047 \nQ 2441 4250 2034 4250 \nQ 1625 4250 1398 4047 \nQ 1172 3844 1172 3481 \nz\n\" transform=\"scale(0.015625)\"/>\n       </defs>\n       <use xlink:href=\"#DejaVuSans-38\"/>\n      </g>\n     </g>\n    </g>\n    <g id=\"text_6\">\n     <!-- Epochs -->\n     <g transform=\"translate(228.774716 327.794688) scale(0.1 -0.1)\">\n      <defs>\n       <path id=\"DejaVuSans-45\" d=\"M 628 4666 \nL 3578 4666 \nL 3578 4134 \nL 1259 4134 \nL 1259 2753 \nL 3481 2753 \nL 3481 2222 \nL 1259 2222 \nL 1259 531 \nL 3634 531 \nL 3634 0 \nL 628 0 \nL 628 4666 \nz\n\" transform=\"scale(0.015625)\"/>\n       <path id=\"DejaVuSans-70\" d=\"M 1159 525 \nL 1159 -1331 \nL 581 -1331 \nL 581 3500 \nL 1159 3500 \nL 1159 2969 \nQ 1341 3281 1617 3432 \nQ 1894 3584 2278 3584 \nQ 2916 3584 3314 3078 \nQ 3713 2572 3713 1747 \nQ 3713 922 3314 415 \nQ 2916 -91 2278 -91 \nQ 1894 -91 1617 61 \nQ 1341 213 1159 525 \nz\nM 3116 1747 \nQ 3116 2381 2855 2742 \nQ 2594 3103 2138 3103 \nQ 1681 3103 1420 2742 \nQ 1159 2381 1159 1747 \nQ 1159 1113 1420 752 \nQ 1681 391 2138 391 \nQ 2594 391 2855 752 \nQ 3116 1113 3116 1747 \nz\n\" transform=\"scale(0.015625)\"/>\n       <path id=\"DejaVuSans-6f\" d=\"M 1959 3097 \nQ 1497 3097 1228 2736 \nQ 959 2375 959 1747 \nQ 959 1119 1226 758 \nQ 1494 397 1959 397 \nQ 2419 397 2687 759 \nQ 2956 1122 2956 1747 \nQ 2956 2369 2687 2733 \nQ 2419 3097 1959 3097 \nz\nM 1959 3584 \nQ 2709 3584 3137 3096 \nQ 3566 2609 3566 1747 \nQ 3566 888 3137 398 \nQ 2709 -91 1959 -91 \nQ 1206 -91 779 398 \nQ 353 888 353 1747 \nQ 353 2609 779 3096 \nQ 1206 3584 1959 3584 \nz\n\" transform=\"scale(0.015625)\"/>\n       <path id=\"DejaVuSans-63\" d=\"M 3122 3366 \nL 3122 2828 \nQ 2878 2963 2633 3030 \nQ 2388 3097 2138 3097 \nQ 1578 3097 1268 2742 \nQ 959 2388 959 1747 \nQ 959 1106 1268 751 \nQ 1578 397 2138 397 \nQ 2388 397 2633 464 \nQ 2878 531 3122 666 \nL 3122 134 \nQ 2881 22 2623 -34 \nQ 2366 -91 2075 -91 \nQ 1284 -91 818 406 \nQ 353 903 353 1747 \nQ 353 2603 823 3093 \nQ 1294 3584 2113 3584 \nQ 2378 3584 2631 3529 \nQ 2884 3475 3122 3366 \nz\n\" transform=\"scale(0.015625)\"/>\n       <path id=\"DejaVuSans-68\" d=\"M 3513 2113 \nL 3513 0 \nL 2938 0 \nL 2938 2094 \nQ 2938 2591 2744 2837 \nQ 2550 3084 2163 3084 \nQ 1697 3084 1428 2787 \nQ 1159 2491 1159 1978 \nL 1159 0 \nL 581 0 \nL 581 4863 \nL 1159 4863 \nL 1159 2956 \nQ 1366 3272 1645 3428 \nQ 1925 3584 2291 3584 \nQ 2894 3584 3203 3211 \nQ 3513 2838 3513 2113 \nz\n\" transform=\"scale(0.015625)\"/>\n       <path id=\"DejaVuSans-73\" d=\"M 2834 3397 \nL 2834 2853 \nQ 2591 2978 2328 3040 \nQ 2066 3103 1784 3103 \nQ 1356 3103 1142 2972 \nQ 928 2841 928 2578 \nQ 928 2378 1081 2264 \nQ 1234 2150 1697 2047 \nL 1894 2003 \nQ 2506 1872 2764 1633 \nQ 3022 1394 3022 966 \nQ 3022 478 2636 193 \nQ 2250 -91 1575 -91 \nQ 1294 -91 989 -36 \nQ 684 19 347 128 \nL 347 722 \nQ 666 556 975 473 \nQ 1284 391 1588 391 \nQ 1994 391 2212 530 \nQ 2431 669 2431 922 \nQ 2431 1156 2273 1281 \nQ 2116 1406 1581 1522 \nL 1381 1569 \nQ 847 1681 609 1914 \nQ 372 2147 372 2553 \nQ 372 3047 722 3315 \nQ 1072 3584 1716 3584 \nQ 2034 3584 2315 3537 \nQ 2597 3491 2834 3397 \nz\n\" transform=\"scale(0.015625)\"/>\n      </defs>\n      <use xlink:href=\"#DejaVuSans-45\"/>\n      <use xlink:href=\"#DejaVuSans-70\" x=\"63.183594\"/>\n      <use xlink:href=\"#DejaVuSans-6f\" x=\"126.660156\"/>\n      <use xlink:href=\"#DejaVuSans-63\" x=\"187.841797\"/>\n      <use xlink:href=\"#DejaVuSans-68\" x=\"242.822266\"/>\n      <use xlink:href=\"#DejaVuSans-73\" x=\"306.201172\"/>\n     </g>\n    </g>\n   </g>\n   <g id=\"matplotlib.axis_2\">\n    <g id=\"ytick_1\">\n     <g id=\"line2d_6\">\n      <defs>\n       <path id=\"m8d1a73e0e5\" d=\"M 0 0 \nL -3.5 0 \n\" style=\"stroke: #000000; stroke-width: 0.8\"/>\n      </defs>\n      <g>\n       <use xlink:href=\"#m8d1a73e0e5\" x=\"43.78125\" y=\"275.814585\" style=\"stroke: #000000; stroke-width: 0.8\"/>\n      </g>\n     </g>\n     <g id=\"text_7\">\n      <!-- 0.6 -->\n      <g transform=\"translate(20.878125 279.613804) scale(0.1 -0.1)\">\n       <defs>\n        <path id=\"DejaVuSans-2e\" d=\"M 684 794 \nL 1344 794 \nL 1344 0 \nL 684 0 \nL 684 794 \nz\n\" transform=\"scale(0.015625)\"/>\n       </defs>\n       <use xlink:href=\"#DejaVuSans-30\"/>\n       <use xlink:href=\"#DejaVuSans-2e\" x=\"63.623047\"/>\n       <use xlink:href=\"#DejaVuSans-36\" x=\"95.410156\"/>\n      </g>\n     </g>\n    </g>\n    <g id=\"ytick_2\">\n     <g id=\"line2d_7\">\n      <g>\n       <use xlink:href=\"#m8d1a73e0e5\" x=\"43.78125\" y=\"242.890006\" style=\"stroke: #000000; stroke-width: 0.8\"/>\n      </g>\n     </g>\n     <g id=\"text_8\">\n      <!-- 0.7 -->\n      <g transform=\"translate(20.878125 246.689225) scale(0.1 -0.1)\">\n       <defs>\n        <path id=\"DejaVuSans-37\" d=\"M 525 4666 \nL 3525 4666 \nL 3525 4397 \nL 1831 0 \nL 1172 0 \nL 2766 4134 \nL 525 4134 \nL 525 4666 \nz\n\" transform=\"scale(0.015625)\"/>\n       </defs>\n       <use xlink:href=\"#DejaVuSans-30\"/>\n       <use xlink:href=\"#DejaVuSans-2e\" x=\"63.623047\"/>\n       <use xlink:href=\"#DejaVuSans-37\" x=\"95.410156\"/>\n      </g>\n     </g>\n    </g>\n    <g id=\"ytick_3\">\n     <g id=\"line2d_8\">\n      <g>\n       <use xlink:href=\"#m8d1a73e0e5\" x=\"43.78125\" y=\"209.965426\" style=\"stroke: #000000; stroke-width: 0.8\"/>\n      </g>\n     </g>\n     <g id=\"text_9\">\n      <!-- 0.8 -->\n      <g transform=\"translate(20.878125 213.764645) scale(0.1 -0.1)\">\n       <use xlink:href=\"#DejaVuSans-30\"/>\n       <use xlink:href=\"#DejaVuSans-2e\" x=\"63.623047\"/>\n       <use xlink:href=\"#DejaVuSans-38\" x=\"95.410156\"/>\n      </g>\n     </g>\n    </g>\n    <g id=\"ytick_4\">\n     <g id=\"line2d_9\">\n      <g>\n       <use xlink:href=\"#m8d1a73e0e5\" x=\"43.78125\" y=\"177.040847\" style=\"stroke: #000000; stroke-width: 0.8\"/>\n      </g>\n     </g>\n     <g id=\"text_10\">\n      <!-- 0.9 -->\n      <g transform=\"translate(20.878125 180.840066) scale(0.1 -0.1)\">\n       <defs>\n        <path id=\"DejaVuSans-39\" d=\"M 703 97 \nL 703 672 \nQ 941 559 1184 500 \nQ 1428 441 1663 441 \nQ 2288 441 2617 861 \nQ 2947 1281 2994 2138 \nQ 2813 1869 2534 1725 \nQ 2256 1581 1919 1581 \nQ 1219 1581 811 2004 \nQ 403 2428 403 3163 \nQ 403 3881 828 4315 \nQ 1253 4750 1959 4750 \nQ 2769 4750 3195 4129 \nQ 3622 3509 3622 2328 \nQ 3622 1225 3098 567 \nQ 2575 -91 1691 -91 \nQ 1453 -91 1209 -44 \nQ 966 3 703 97 \nz\nM 1959 2075 \nQ 2384 2075 2632 2365 \nQ 2881 2656 2881 3163 \nQ 2881 3666 2632 3958 \nQ 2384 4250 1959 4250 \nQ 1534 4250 1286 3958 \nQ 1038 3666 1038 3163 \nQ 1038 2656 1286 2365 \nQ 1534 2075 1959 2075 \nz\n\" transform=\"scale(0.015625)\"/>\n       </defs>\n       <use xlink:href=\"#DejaVuSans-30\"/>\n       <use xlink:href=\"#DejaVuSans-2e\" x=\"63.623047\"/>\n       <use xlink:href=\"#DejaVuSans-39\" x=\"95.410156\"/>\n      </g>\n     </g>\n    </g>\n    <g id=\"ytick_5\">\n     <g id=\"line2d_10\">\n      <g>\n       <use xlink:href=\"#m8d1a73e0e5\" x=\"43.78125\" y=\"144.116267\" style=\"stroke: #000000; stroke-width: 0.8\"/>\n      </g>\n     </g>\n     <g id=\"text_11\">\n      <!-- 1.0 -->\n      <g transform=\"translate(20.878125 147.915486) scale(0.1 -0.1)\">\n       <defs>\n        <path id=\"DejaVuSans-31\" d=\"M 794 531 \nL 1825 531 \nL 1825 4091 \nL 703 3866 \nL 703 4441 \nL 1819 4666 \nL 2450 4666 \nL 2450 531 \nL 3481 531 \nL 3481 0 \nL 794 0 \nL 794 531 \nz\n\" transform=\"scale(0.015625)\"/>\n       </defs>\n       <use xlink:href=\"#DejaVuSans-31\"/>\n       <use xlink:href=\"#DejaVuSans-2e\" x=\"63.623047\"/>\n       <use xlink:href=\"#DejaVuSans-30\" x=\"95.410156\"/>\n      </g>\n     </g>\n    </g>\n    <g id=\"ytick_6\">\n     <g id=\"line2d_11\">\n      <g>\n       <use xlink:href=\"#m8d1a73e0e5\" x=\"43.78125\" y=\"111.191688\" style=\"stroke: #000000; stroke-width: 0.8\"/>\n      </g>\n     </g>\n     <g id=\"text_12\">\n      <!-- 1.1 -->\n      <g transform=\"translate(20.878125 114.990906) scale(0.1 -0.1)\">\n       <use xlink:href=\"#DejaVuSans-31\"/>\n       <use xlink:href=\"#DejaVuSans-2e\" x=\"63.623047\"/>\n       <use xlink:href=\"#DejaVuSans-31\" x=\"95.410156\"/>\n      </g>\n     </g>\n    </g>\n    <g id=\"ytick_7\">\n     <g id=\"line2d_12\">\n      <g>\n       <use xlink:href=\"#m8d1a73e0e5\" x=\"43.78125\" y=\"78.267108\" style=\"stroke: #000000; stroke-width: 0.8\"/>\n      </g>\n     </g>\n     <g id=\"text_13\">\n      <!-- 1.2 -->\n      <g transform=\"translate(20.878125 82.066327) scale(0.1 -0.1)\">\n       <use xlink:href=\"#DejaVuSans-31\"/>\n       <use xlink:href=\"#DejaVuSans-2e\" x=\"63.623047\"/>\n       <use xlink:href=\"#DejaVuSans-32\" x=\"95.410156\"/>\n      </g>\n     </g>\n    </g>\n    <g id=\"ytick_8\">\n     <g id=\"line2d_13\">\n      <g>\n       <use xlink:href=\"#m8d1a73e0e5\" x=\"43.78125\" y=\"45.342529\" style=\"stroke: #000000; stroke-width: 0.8\"/>\n      </g>\n     </g>\n     <g id=\"text_14\">\n      <!-- 1.3 -->\n      <g transform=\"translate(20.878125 49.141747) scale(0.1 -0.1)\">\n       <defs>\n        <path id=\"DejaVuSans-33\" d=\"M 2597 2516 \nQ 3050 2419 3304 2112 \nQ 3559 1806 3559 1356 \nQ 3559 666 3084 287 \nQ 2609 -91 1734 -91 \nQ 1441 -91 1130 -33 \nQ 819 25 488 141 \nL 488 750 \nQ 750 597 1062 519 \nQ 1375 441 1716 441 \nQ 2309 441 2620 675 \nQ 2931 909 2931 1356 \nQ 2931 1769 2642 2001 \nQ 2353 2234 1838 2234 \nL 1294 2234 \nL 1294 2753 \nL 1863 2753 \nQ 2328 2753 2575 2939 \nQ 2822 3125 2822 3475 \nQ 2822 3834 2567 4026 \nQ 2313 4219 1838 4219 \nQ 1578 4219 1281 4162 \nQ 984 4106 628 3988 \nL 628 4550 \nQ 988 4650 1302 4700 \nQ 1616 4750 1894 4750 \nQ 2613 4750 3031 4423 \nQ 3450 4097 3450 3541 \nQ 3450 3153 3228 2886 \nQ 3006 2619 2597 2516 \nz\n\" transform=\"scale(0.015625)\"/>\n       </defs>\n       <use xlink:href=\"#DejaVuSans-31\"/>\n       <use xlink:href=\"#DejaVuSans-2e\" x=\"63.623047\"/>\n       <use xlink:href=\"#DejaVuSans-33\" x=\"95.410156\"/>\n      </g>\n     </g>\n    </g>\n    <g id=\"text_15\">\n     <!-- Loss (MSE) -->\n     <g transform=\"translate(14.798438 188.023594) rotate(-90) scale(0.1 -0.1)\">\n      <defs>\n       <path id=\"DejaVuSans-4c\" d=\"M 628 4666 \nL 1259 4666 \nL 1259 531 \nL 3531 531 \nL 3531 0 \nL 628 0 \nL 628 4666 \nz\n\" transform=\"scale(0.015625)\"/>\n       <path id=\"DejaVuSans-20\" transform=\"scale(0.015625)\"/>\n       <path id=\"DejaVuSans-28\" d=\"M 1984 4856 \nQ 1566 4138 1362 3434 \nQ 1159 2731 1159 2009 \nQ 1159 1288 1364 580 \nQ 1569 -128 1984 -844 \nL 1484 -844 \nQ 1016 -109 783 600 \nQ 550 1309 550 2009 \nQ 550 2706 781 3412 \nQ 1013 4119 1484 4856 \nL 1984 4856 \nz\n\" transform=\"scale(0.015625)\"/>\n       <path id=\"DejaVuSans-4d\" d=\"M 628 4666 \nL 1569 4666 \nL 2759 1491 \nL 3956 4666 \nL 4897 4666 \nL 4897 0 \nL 4281 0 \nL 4281 4097 \nL 3078 897 \nL 2444 897 \nL 1241 4097 \nL 1241 0 \nL 628 0 \nL 628 4666 \nz\n\" transform=\"scale(0.015625)\"/>\n       <path id=\"DejaVuSans-53\" d=\"M 3425 4513 \nL 3425 3897 \nQ 3066 4069 2747 4153 \nQ 2428 4238 2131 4238 \nQ 1616 4238 1336 4038 \nQ 1056 3838 1056 3469 \nQ 1056 3159 1242 3001 \nQ 1428 2844 1947 2747 \nL 2328 2669 \nQ 3034 2534 3370 2195 \nQ 3706 1856 3706 1288 \nQ 3706 609 3251 259 \nQ 2797 -91 1919 -91 \nQ 1588 -91 1214 -16 \nQ 841 59 441 206 \nL 441 856 \nQ 825 641 1194 531 \nQ 1563 422 1919 422 \nQ 2459 422 2753 634 \nQ 3047 847 3047 1241 \nQ 3047 1584 2836 1778 \nQ 2625 1972 2144 2069 \nL 1759 2144 \nQ 1053 2284 737 2584 \nQ 422 2884 422 3419 \nQ 422 4038 858 4394 \nQ 1294 4750 2059 4750 \nQ 2388 4750 2728 4690 \nQ 3069 4631 3425 4513 \nz\n\" transform=\"scale(0.015625)\"/>\n       <path id=\"DejaVuSans-29\" d=\"M 513 4856 \nL 1013 4856 \nQ 1481 4119 1714 3412 \nQ 1947 2706 1947 2009 \nQ 1947 1309 1714 600 \nQ 1481 -109 1013 -844 \nL 513 -844 \nQ 928 -128 1133 580 \nQ 1338 1288 1338 2009 \nQ 1338 2731 1133 3434 \nQ 928 4138 513 4856 \nz\n\" transform=\"scale(0.015625)\"/>\n      </defs>\n      <use xlink:href=\"#DejaVuSans-4c\"/>\n      <use xlink:href=\"#DejaVuSans-6f\" x=\"53.962891\"/>\n      <use xlink:href=\"#DejaVuSans-73\" x=\"115.144531\"/>\n      <use xlink:href=\"#DejaVuSans-73\" x=\"167.244141\"/>\n      <use xlink:href=\"#DejaVuSans-20\" x=\"219.34375\"/>\n      <use xlink:href=\"#DejaVuSans-28\" x=\"251.130859\"/>\n      <use xlink:href=\"#DejaVuSans-4d\" x=\"290.144531\"/>\n      <use xlink:href=\"#DejaVuSans-53\" x=\"376.423828\"/>\n      <use xlink:href=\"#DejaVuSans-45\" x=\"439.900391\"/>\n      <use xlink:href=\"#DejaVuSans-29\" x=\"503.083984\"/>\n     </g>\n    </g>\n   </g>\n   <g id=\"line2d_14\">\n    <path d=\"M 62.227531 34.918125 \nL 103.219267 140.356119 \nL 144.211002 183.068289 \nL 185.202738 207.214547 \nL 226.194473 229.234247 \nL 267.186209 243.961316 \nL 308.177944 258.656907 \nL 349.16968 271.832044 \nL 390.161415 280.812605 \nL 431.153151 286.918125 \n\" clip-path=\"url(#p640deb9010)\" style=\"fill: none; stroke: #1f77b4; stroke-width: 1.5; stroke-linecap: square\"/>\n    <defs>\n     <path id=\"mf9e36f66cd\" d=\"M -3 3 \nL 3 3 \nL 3 -3 \nL -3 -3 \nz\n\" style=\"stroke: #1f77b4; stroke-linejoin: miter\"/>\n    </defs>\n    <g clip-path=\"url(#p640deb9010)\">\n     <use xlink:href=\"#mf9e36f66cd\" x=\"62.227531\" y=\"34.918125\" style=\"fill: #1f77b4; stroke: #1f77b4; stroke-linejoin: miter\"/>\n     <use xlink:href=\"#mf9e36f66cd\" x=\"103.219267\" y=\"140.356119\" style=\"fill: #1f77b4; stroke: #1f77b4; stroke-linejoin: miter\"/>\n     <use xlink:href=\"#mf9e36f66cd\" x=\"144.211002\" y=\"183.068289\" style=\"fill: #1f77b4; stroke: #1f77b4; stroke-linejoin: miter\"/>\n     <use xlink:href=\"#mf9e36f66cd\" x=\"185.202738\" y=\"207.214547\" style=\"fill: #1f77b4; stroke: #1f77b4; stroke-linejoin: miter\"/>\n     <use xlink:href=\"#mf9e36f66cd\" x=\"226.194473\" y=\"229.234247\" style=\"fill: #1f77b4; stroke: #1f77b4; stroke-linejoin: miter\"/>\n     <use xlink:href=\"#mf9e36f66cd\" x=\"267.186209\" y=\"243.961316\" style=\"fill: #1f77b4; stroke: #1f77b4; stroke-linejoin: miter\"/>\n     <use xlink:href=\"#mf9e36f66cd\" x=\"308.177944\" y=\"258.656907\" style=\"fill: #1f77b4; stroke: #1f77b4; stroke-linejoin: miter\"/>\n     <use xlink:href=\"#mf9e36f66cd\" x=\"349.16968\" y=\"271.832044\" style=\"fill: #1f77b4; stroke: #1f77b4; stroke-linejoin: miter\"/>\n     <use xlink:href=\"#mf9e36f66cd\" x=\"390.161415\" y=\"280.812605\" style=\"fill: #1f77b4; stroke: #1f77b4; stroke-linejoin: miter\"/>\n     <use xlink:href=\"#mf9e36f66cd\" x=\"431.153151\" y=\"286.918125\" style=\"fill: #1f77b4; stroke: #1f77b4; stroke-linejoin: miter\"/>\n    </g>\n   </g>\n   <g id=\"line2d_15\">\n    <path d=\"M 62.227531 109.212149 \nL 103.219267 182.839388 \nL 144.211002 170.81796 \nL 185.202738 216.850215 \nL 226.194473 219.502359 \nL 267.186209 227.252262 \nL 308.177944 239.471644 \nL 349.16968 238.653358 \nL 390.161415 230.543187 \nL 431.153151 240.410091 \n\" clip-path=\"url(#p640deb9010)\" style=\"fill: none; stroke: #ff7f0e; stroke-width: 1.5; stroke-linecap: square\"/>\n    <defs>\n     <path id=\"mf10b5c998a\" d=\"M 0 3 \nC 0.795609 3 1.55874 2.683901 2.12132 2.12132 \nC 2.683901 1.55874 3 0.795609 3 0 \nC 3 -0.795609 2.683901 -1.55874 2.12132 -2.12132 \nC 1.55874 -2.683901 0.795609 -3 0 -3 \nC -0.795609 -3 -1.55874 -2.683901 -2.12132 -2.12132 \nC -2.683901 -1.55874 -3 -0.795609 -3 0 \nC -3 0.795609 -2.683901 1.55874 -2.12132 2.12132 \nC -1.55874 2.683901 -0.795609 3 0 3 \nz\n\" style=\"stroke: #ff7f0e\"/>\n    </defs>\n    <g clip-path=\"url(#p640deb9010)\">\n     <use xlink:href=\"#mf10b5c998a\" x=\"62.227531\" y=\"109.212149\" style=\"fill: #ff7f0e; stroke: #ff7f0e\"/>\n     <use xlink:href=\"#mf10b5c998a\" x=\"103.219267\" y=\"182.839388\" style=\"fill: #ff7f0e; stroke: #ff7f0e\"/>\n     <use xlink:href=\"#mf10b5c998a\" x=\"144.211002\" y=\"170.81796\" style=\"fill: #ff7f0e; stroke: #ff7f0e\"/>\n     <use xlink:href=\"#mf10b5c998a\" x=\"185.202738\" y=\"216.850215\" style=\"fill: #ff7f0e; stroke: #ff7f0e\"/>\n     <use xlink:href=\"#mf10b5c998a\" x=\"226.194473\" y=\"219.502359\" style=\"fill: #ff7f0e; stroke: #ff7f0e\"/>\n     <use xlink:href=\"#mf10b5c998a\" x=\"267.186209\" y=\"227.252262\" style=\"fill: #ff7f0e; stroke: #ff7f0e\"/>\n     <use xlink:href=\"#mf10b5c998a\" x=\"308.177944\" y=\"239.471644\" style=\"fill: #ff7f0e; stroke: #ff7f0e\"/>\n     <use xlink:href=\"#mf10b5c998a\" x=\"349.16968\" y=\"238.653358\" style=\"fill: #ff7f0e; stroke: #ff7f0e\"/>\n     <use xlink:href=\"#mf10b5c998a\" x=\"390.161415\" y=\"230.543187\" style=\"fill: #ff7f0e; stroke: #ff7f0e\"/>\n     <use xlink:href=\"#mf10b5c998a\" x=\"431.153151\" y=\"240.410091\" style=\"fill: #ff7f0e; stroke: #ff7f0e\"/>\n    </g>\n   </g>\n   <g id=\"line2d_16\">\n    <path d=\"M 431.153151 236.737332 \n\" clip-path=\"url(#p640deb9010)\" style=\"fill: none; stroke: #2ca02c; stroke-width: 1.5; stroke-linecap: square\"/>\n    <defs>\n     <path id=\"m8d2af98bc7\" d=\"M 0 -3 \nL -0.673542 -0.927051 \nL -2.85317 -0.927051 \nL -1.089814 0.354102 \nL -1.763356 2.427051 \nL -0 1.145898 \nL 1.763356 2.427051 \nL 1.089814 0.354102 \nL 2.85317 -0.927051 \nL 0.673542 -0.927051 \nz\n\" style=\"stroke: #2ca02c; stroke-linejoin: bevel\"/>\n    </defs>\n    <g clip-path=\"url(#p640deb9010)\">\n     <use xlink:href=\"#m8d2af98bc7\" x=\"431.153151\" y=\"236.737332\" style=\"fill: #2ca02c; stroke: #2ca02c; stroke-linejoin: bevel\"/>\n    </g>\n   </g>\n   <g id=\"patch_3\">\n    <path d=\"M 43.78125 299.518125 \nL 43.78125 22.318125 \n\" style=\"fill: none; stroke: #000000; stroke-width: 0.8; stroke-linejoin: miter; stroke-linecap: square\"/>\n   </g>\n   <g id=\"patch_4\">\n    <path d=\"M 449.599432 299.518125 \nL 449.599432 22.318125 \n\" style=\"fill: none; stroke: #000000; stroke-width: 0.8; stroke-linejoin: miter; stroke-linecap: square\"/>\n   </g>\n   <g id=\"patch_5\">\n    <path d=\"M 43.78125 299.518125 \nL 449.599432 299.518125 \n\" style=\"fill: none; stroke: #000000; stroke-width: 0.8; stroke-linejoin: miter; stroke-linecap: square\"/>\n   </g>\n   <g id=\"patch_6\">\n    <path d=\"M 43.78125 22.318125 \nL 449.599432 22.318125 \n\" style=\"fill: none; stroke: #000000; stroke-width: 0.8; stroke-linejoin: miter; stroke-linecap: square\"/>\n   </g>\n   <g id=\"text_16\">\n    <!-- Model loss -->\n    <g transform=\"translate(215.178153 16.318125) scale(0.12 -0.12)\">\n     <defs>\n      <path id=\"DejaVuSans-64\" d=\"M 2906 2969 \nL 2906 4863 \nL 3481 4863 \nL 3481 0 \nL 2906 0 \nL 2906 525 \nQ 2725 213 2448 61 \nQ 2172 -91 1784 -91 \nQ 1150 -91 751 415 \nQ 353 922 353 1747 \nQ 353 2572 751 3078 \nQ 1150 3584 1784 3584 \nQ 2172 3584 2448 3432 \nQ 2725 3281 2906 2969 \nz\nM 947 1747 \nQ 947 1113 1208 752 \nQ 1469 391 1925 391 \nQ 2381 391 2643 752 \nQ 2906 1113 2906 1747 \nQ 2906 2381 2643 2742 \nQ 2381 3103 1925 3103 \nQ 1469 3103 1208 2742 \nQ 947 2381 947 1747 \nz\n\" transform=\"scale(0.015625)\"/>\n      <path id=\"DejaVuSans-65\" d=\"M 3597 1894 \nL 3597 1613 \nL 953 1613 \nQ 991 1019 1311 708 \nQ 1631 397 2203 397 \nQ 2534 397 2845 478 \nQ 3156 559 3463 722 \nL 3463 178 \nQ 3153 47 2828 -22 \nQ 2503 -91 2169 -91 \nQ 1331 -91 842 396 \nQ 353 884 353 1716 \nQ 353 2575 817 3079 \nQ 1281 3584 2069 3584 \nQ 2775 3584 3186 3129 \nQ 3597 2675 3597 1894 \nz\nM 3022 2063 \nQ 3016 2534 2758 2815 \nQ 2500 3097 2075 3097 \nQ 1594 3097 1305 2825 \nQ 1016 2553 972 2059 \nL 3022 2063 \nz\n\" transform=\"scale(0.015625)\"/>\n      <path id=\"DejaVuSans-6c\" d=\"M 603 4863 \nL 1178 4863 \nL 1178 0 \nL 603 0 \nL 603 4863 \nz\n\" transform=\"scale(0.015625)\"/>\n     </defs>\n     <use xlink:href=\"#DejaVuSans-4d\"/>\n     <use xlink:href=\"#DejaVuSans-6f\" x=\"86.279297\"/>\n     <use xlink:href=\"#DejaVuSans-64\" x=\"147.460938\"/>\n     <use xlink:href=\"#DejaVuSans-65\" x=\"210.9375\"/>\n     <use xlink:href=\"#DejaVuSans-6c\" x=\"272.460938\"/>\n     <use xlink:href=\"#DejaVuSans-20\" x=\"300.244141\"/>\n     <use xlink:href=\"#DejaVuSans-6c\" x=\"332.03125\"/>\n     <use xlink:href=\"#DejaVuSans-6f\" x=\"359.814453\"/>\n     <use xlink:href=\"#DejaVuSans-73\" x=\"420.996094\"/>\n     <use xlink:href=\"#DejaVuSans-73\" x=\"473.095703\"/>\n    </g>\n   </g>\n  </g>\n  <g id=\"axes_2\">\n   <g id=\"patch_7\">\n    <path d=\"M 530.763068 299.518125 \nL 936.58125 299.518125 \nL 936.58125 22.318125 \nL 530.763068 22.318125 \nz\n\" style=\"fill: #ffffff\"/>\n   </g>\n   <g id=\"matplotlib.axis_3\">\n    <g id=\"xtick_6\">\n     <g id=\"line2d_17\">\n      <g>\n       <use xlink:href=\"#m7d8fad994f\" x=\"549.209349\" y=\"299.518125\" style=\"stroke: #000000; stroke-width: 0.8\"/>\n      </g>\n     </g>\n     <g id=\"text_17\">\n      <!-- 0 -->\n      <g transform=\"translate(546.028099 314.116563) scale(0.1 -0.1)\">\n       <use xlink:href=\"#DejaVuSans-30\"/>\n      </g>\n     </g>\n    </g>\n    <g id=\"xtick_7\">\n     <g id=\"line2d_18\">\n      <g>\n       <use xlink:href=\"#m7d8fad994f\" x=\"631.19282\" y=\"299.518125\" style=\"stroke: #000000; stroke-width: 0.8\"/>\n      </g>\n     </g>\n     <g id=\"text_18\">\n      <!-- 2 -->\n      <g transform=\"translate(628.01157 314.116563) scale(0.1 -0.1)\">\n       <use xlink:href=\"#DejaVuSans-32\"/>\n      </g>\n     </g>\n    </g>\n    <g id=\"xtick_8\">\n     <g id=\"line2d_19\">\n      <g>\n       <use xlink:href=\"#m7d8fad994f\" x=\"713.176291\" y=\"299.518125\" style=\"stroke: #000000; stroke-width: 0.8\"/>\n      </g>\n     </g>\n     <g id=\"text_19\">\n      <!-- 4 -->\n      <g transform=\"translate(709.995041 314.116563) scale(0.1 -0.1)\">\n       <use xlink:href=\"#DejaVuSans-34\"/>\n      </g>\n     </g>\n    </g>\n    <g id=\"xtick_9\">\n     <g id=\"line2d_20\">\n      <g>\n       <use xlink:href=\"#m7d8fad994f\" x=\"795.159762\" y=\"299.518125\" style=\"stroke: #000000; stroke-width: 0.8\"/>\n      </g>\n     </g>\n     <g id=\"text_20\">\n      <!-- 6 -->\n      <g transform=\"translate(791.978512 314.116563) scale(0.1 -0.1)\">\n       <use xlink:href=\"#DejaVuSans-36\"/>\n      </g>\n     </g>\n    </g>\n    <g id=\"xtick_10\">\n     <g id=\"line2d_21\">\n      <g>\n       <use xlink:href=\"#m7d8fad994f\" x=\"877.143233\" y=\"299.518125\" style=\"stroke: #000000; stroke-width: 0.8\"/>\n      </g>\n     </g>\n     <g id=\"text_21\">\n      <!-- 8 -->\n      <g transform=\"translate(873.961983 314.116563) scale(0.1 -0.1)\">\n       <use xlink:href=\"#DejaVuSans-38\"/>\n      </g>\n     </g>\n    </g>\n    <g id=\"text_22\">\n     <!-- Epochs -->\n     <g transform=\"translate(715.756534 327.794688) scale(0.1 -0.1)\">\n      <use xlink:href=\"#DejaVuSans-45\"/>\n      <use xlink:href=\"#DejaVuSans-70\" x=\"63.183594\"/>\n      <use xlink:href=\"#DejaVuSans-6f\" x=\"126.660156\"/>\n      <use xlink:href=\"#DejaVuSans-63\" x=\"187.841797\"/>\n      <use xlink:href=\"#DejaVuSans-68\" x=\"242.822266\"/>\n      <use xlink:href=\"#DejaVuSans-73\" x=\"306.201172\"/>\n     </g>\n    </g>\n   </g>\n   <g id=\"matplotlib.axis_4\">\n    <g id=\"ytick_9\">\n     <g id=\"line2d_22\">\n      <g>\n       <use xlink:href=\"#m8d1a73e0e5\" x=\"530.763068\" y=\"286.414397\" style=\"stroke: #000000; stroke-width: 0.8\"/>\n      </g>\n     </g>\n     <g id=\"text_23\">\n      <!-- 20 -->\n      <g transform=\"translate(511.038068 290.213616) scale(0.1 -0.1)\">\n       <use xlink:href=\"#DejaVuSans-32\"/>\n       <use xlink:href=\"#DejaVuSans-30\" x=\"63.623047\"/>\n      </g>\n     </g>\n    </g>\n    <g id=\"ytick_10\">\n     <g id=\"line2d_23\">\n      <g>\n       <use xlink:href=\"#m8d1a73e0e5\" x=\"530.763068\" y=\"240.621192\" style=\"stroke: #000000; stroke-width: 0.8\"/>\n      </g>\n     </g>\n     <g id=\"text_24\">\n      <!-- 25 -->\n      <g transform=\"translate(511.038068 244.420411) scale(0.1 -0.1)\">\n       <defs>\n        <path id=\"DejaVuSans-35\" d=\"M 691 4666 \nL 3169 4666 \nL 3169 4134 \nL 1269 4134 \nL 1269 2991 \nQ 1406 3038 1543 3061 \nQ 1681 3084 1819 3084 \nQ 2600 3084 3056 2656 \nQ 3513 2228 3513 1497 \nQ 3513 744 3044 326 \nQ 2575 -91 1722 -91 \nQ 1428 -91 1123 -41 \nQ 819 9 494 109 \nL 494 744 \nQ 775 591 1075 516 \nQ 1375 441 1709 441 \nQ 2250 441 2565 725 \nQ 2881 1009 2881 1497 \nQ 2881 1984 2565 2268 \nQ 2250 2553 1709 2553 \nQ 1456 2553 1204 2497 \nQ 953 2441 691 2322 \nL 691 4666 \nz\n\" transform=\"scale(0.015625)\"/>\n       </defs>\n       <use xlink:href=\"#DejaVuSans-32\"/>\n       <use xlink:href=\"#DejaVuSans-35\" x=\"63.623047\"/>\n      </g>\n     </g>\n    </g>\n    <g id=\"ytick_11\">\n     <g id=\"line2d_24\">\n      <g>\n       <use xlink:href=\"#m8d1a73e0e5\" x=\"530.763068\" y=\"194.827988\" style=\"stroke: #000000; stroke-width: 0.8\"/>\n      </g>\n     </g>\n     <g id=\"text_25\">\n      <!-- 30 -->\n      <g transform=\"translate(511.038068 198.627206) scale(0.1 -0.1)\">\n       <use xlink:href=\"#DejaVuSans-33\"/>\n       <use xlink:href=\"#DejaVuSans-30\" x=\"63.623047\"/>\n      </g>\n     </g>\n    </g>\n    <g id=\"ytick_12\">\n     <g id=\"line2d_25\">\n      <g>\n       <use xlink:href=\"#m8d1a73e0e5\" x=\"530.763068\" y=\"149.034783\" style=\"stroke: #000000; stroke-width: 0.8\"/>\n      </g>\n     </g>\n     <g id=\"text_26\">\n      <!-- 35 -->\n      <g transform=\"translate(511.038068 152.834002) scale(0.1 -0.1)\">\n       <use xlink:href=\"#DejaVuSans-33\"/>\n       <use xlink:href=\"#DejaVuSans-35\" x=\"63.623047\"/>\n      </g>\n     </g>\n    </g>\n    <g id=\"ytick_13\">\n     <g id=\"line2d_26\">\n      <g>\n       <use xlink:href=\"#m8d1a73e0e5\" x=\"530.763068\" y=\"103.241578\" style=\"stroke: #000000; stroke-width: 0.8\"/>\n      </g>\n     </g>\n     <g id=\"text_27\">\n      <!-- 40 -->\n      <g transform=\"translate(511.038068 107.040797) scale(0.1 -0.1)\">\n       <use xlink:href=\"#DejaVuSans-34\"/>\n       <use xlink:href=\"#DejaVuSans-30\" x=\"63.623047\"/>\n      </g>\n     </g>\n    </g>\n    <g id=\"ytick_14\">\n     <g id=\"line2d_27\">\n      <g>\n       <use xlink:href=\"#m8d1a73e0e5\" x=\"530.763068\" y=\"57.448373\" style=\"stroke: #000000; stroke-width: 0.8\"/>\n      </g>\n     </g>\n     <g id=\"text_28\">\n      <!-- 45 -->\n      <g transform=\"translate(511.038068 61.247592) scale(0.1 -0.1)\">\n       <use xlink:href=\"#DejaVuSans-34\"/>\n       <use xlink:href=\"#DejaVuSans-35\" x=\"63.623047\"/>\n      </g>\n     </g>\n    </g>\n    <g id=\"text_29\">\n     <!-- Error rates (%) -->\n     <g transform=\"translate(504.958381 197.694688) rotate(-90) scale(0.1 -0.1)\">\n      <defs>\n       <path id=\"DejaVuSans-72\" d=\"M 2631 2963 \nQ 2534 3019 2420 3045 \nQ 2306 3072 2169 3072 \nQ 1681 3072 1420 2755 \nQ 1159 2438 1159 1844 \nL 1159 0 \nL 581 0 \nL 581 3500 \nL 1159 3500 \nL 1159 2956 \nQ 1341 3275 1631 3429 \nQ 1922 3584 2338 3584 \nQ 2397 3584 2469 3576 \nQ 2541 3569 2628 3553 \nL 2631 2963 \nz\n\" transform=\"scale(0.015625)\"/>\n       <path id=\"DejaVuSans-61\" d=\"M 2194 1759 \nQ 1497 1759 1228 1600 \nQ 959 1441 959 1056 \nQ 959 750 1161 570 \nQ 1363 391 1709 391 \nQ 2188 391 2477 730 \nQ 2766 1069 2766 1631 \nL 2766 1759 \nL 2194 1759 \nz\nM 3341 1997 \nL 3341 0 \nL 2766 0 \nL 2766 531 \nQ 2569 213 2275 61 \nQ 1981 -91 1556 -91 \nQ 1019 -91 701 211 \nQ 384 513 384 1019 \nQ 384 1609 779 1909 \nQ 1175 2209 1959 2209 \nL 2766 2209 \nL 2766 2266 \nQ 2766 2663 2505 2880 \nQ 2244 3097 1772 3097 \nQ 1472 3097 1187 3025 \nQ 903 2953 641 2809 \nL 641 3341 \nQ 956 3463 1253 3523 \nQ 1550 3584 1831 3584 \nQ 2591 3584 2966 3190 \nQ 3341 2797 3341 1997 \nz\n\" transform=\"scale(0.015625)\"/>\n       <path id=\"DejaVuSans-74\" d=\"M 1172 4494 \nL 1172 3500 \nL 2356 3500 \nL 2356 3053 \nL 1172 3053 \nL 1172 1153 \nQ 1172 725 1289 603 \nQ 1406 481 1766 481 \nL 2356 481 \nL 2356 0 \nL 1766 0 \nQ 1100 0 847 248 \nQ 594 497 594 1153 \nL 594 3053 \nL 172 3053 \nL 172 3500 \nL 594 3500 \nL 594 4494 \nL 1172 4494 \nz\n\" transform=\"scale(0.015625)\"/>\n       <path id=\"DejaVuSans-25\" d=\"M 4653 2053 \nQ 4381 2053 4226 1822 \nQ 4072 1591 4072 1178 \nQ 4072 772 4226 539 \nQ 4381 306 4653 306 \nQ 4919 306 5073 539 \nQ 5228 772 5228 1178 \nQ 5228 1588 5073 1820 \nQ 4919 2053 4653 2053 \nz\nM 4653 2450 \nQ 5147 2450 5437 2106 \nQ 5728 1763 5728 1178 \nQ 5728 594 5436 251 \nQ 5144 -91 4653 -91 \nQ 4153 -91 3862 251 \nQ 3572 594 3572 1178 \nQ 3572 1766 3864 2108 \nQ 4156 2450 4653 2450 \nz\nM 1428 4353 \nQ 1159 4353 1004 4120 \nQ 850 3888 850 3481 \nQ 850 3069 1003 2837 \nQ 1156 2606 1428 2606 \nQ 1700 2606 1854 2837 \nQ 2009 3069 2009 3481 \nQ 2009 3884 1853 4118 \nQ 1697 4353 1428 4353 \nz\nM 4250 4750 \nL 4750 4750 \nL 1831 -91 \nL 1331 -91 \nL 4250 4750 \nz\nM 1428 4750 \nQ 1922 4750 2215 4408 \nQ 2509 4066 2509 3481 \nQ 2509 2891 2217 2550 \nQ 1925 2209 1428 2209 \nQ 931 2209 642 2551 \nQ 353 2894 353 3481 \nQ 353 4063 643 4406 \nQ 934 4750 1428 4750 \nz\n\" transform=\"scale(0.015625)\"/>\n      </defs>\n      <use xlink:href=\"#DejaVuSans-45\"/>\n      <use xlink:href=\"#DejaVuSans-72\" x=\"63.183594\"/>\n      <use xlink:href=\"#DejaVuSans-72\" x=\"102.546875\"/>\n      <use xlink:href=\"#DejaVuSans-6f\" x=\"141.410156\"/>\n      <use xlink:href=\"#DejaVuSans-72\" x=\"202.591797\"/>\n      <use xlink:href=\"#DejaVuSans-20\" x=\"243.705078\"/>\n      <use xlink:href=\"#DejaVuSans-72\" x=\"275.492188\"/>\n      <use xlink:href=\"#DejaVuSans-61\" x=\"316.605469\"/>\n      <use xlink:href=\"#DejaVuSans-74\" x=\"377.884766\"/>\n      <use xlink:href=\"#DejaVuSans-65\" x=\"417.09375\"/>\n      <use xlink:href=\"#DejaVuSans-73\" x=\"478.617188\"/>\n      <use xlink:href=\"#DejaVuSans-20\" x=\"530.716797\"/>\n      <use xlink:href=\"#DejaVuSans-28\" x=\"562.503906\"/>\n      <use xlink:href=\"#DejaVuSans-25\" x=\"601.517578\"/>\n      <use xlink:href=\"#DejaVuSans-29\" x=\"696.537109\"/>\n     </g>\n    </g>\n   </g>\n   <g id=\"line2d_28\">\n    <path d=\"M 549.209349 34.918125 \nL 590.201085 141.570503 \nL 631.19282 186.035701 \nL 672.184556 209.18415 \nL 713.176291 231.073313 \nL 754.168027 244.422037 \nL 795.159762 259.900127 \nL 836.151498 268.05133 \nL 877.143233 279.888869 \nL 918.134969 286.918125 \n\" clip-path=\"url(#p6d2a9de3fe)\" style=\"fill: none; stroke: #1f77b4; stroke-width: 1.5; stroke-linecap: square\"/>\n    <g clip-path=\"url(#p6d2a9de3fe)\">\n     <use xlink:href=\"#mf9e36f66cd\" x=\"549.209349\" y=\"34.918125\" style=\"fill: #1f77b4; stroke: #1f77b4; stroke-linejoin: miter\"/>\n     <use xlink:href=\"#mf9e36f66cd\" x=\"590.201085\" y=\"141.570503\" style=\"fill: #1f77b4; stroke: #1f77b4; stroke-linejoin: miter\"/>\n     <use xlink:href=\"#mf9e36f66cd\" x=\"631.19282\" y=\"186.035701\" style=\"fill: #1f77b4; stroke: #1f77b4; stroke-linejoin: miter\"/>\n     <use xlink:href=\"#mf9e36f66cd\" x=\"672.184556\" y=\"209.18415\" style=\"fill: #1f77b4; stroke: #1f77b4; stroke-linejoin: miter\"/>\n     <use xlink:href=\"#mf9e36f66cd\" x=\"713.176291\" y=\"231.073313\" style=\"fill: #1f77b4; stroke: #1f77b4; stroke-linejoin: miter\"/>\n     <use xlink:href=\"#mf9e36f66cd\" x=\"754.168027\" y=\"244.422037\" style=\"fill: #1f77b4; stroke: #1f77b4; stroke-linejoin: miter\"/>\n     <use xlink:href=\"#mf9e36f66cd\" x=\"795.159762\" y=\"259.900127\" style=\"fill: #1f77b4; stroke: #1f77b4; stroke-linejoin: miter\"/>\n     <use xlink:href=\"#mf9e36f66cd\" x=\"836.151498\" y=\"268.05133\" style=\"fill: #1f77b4; stroke: #1f77b4; stroke-linejoin: miter\"/>\n     <use xlink:href=\"#mf9e36f66cd\" x=\"877.143233\" y=\"279.888869\" style=\"fill: #1f77b4; stroke: #1f77b4; stroke-linejoin: miter\"/>\n     <use xlink:href=\"#mf9e36f66cd\" x=\"918.134969\" y=\"286.918125\" style=\"fill: #1f77b4; stroke: #1f77b4; stroke-linejoin: miter\"/>\n    </g>\n   </g>\n   <g id=\"line2d_29\">\n    <path d=\"M 549.209349 100.493958 \nL 590.201085 189.332782 \nL 631.19282 167.352065 \nL 672.184556 208.565931 \nL 713.176291 225.051478 \nL 754.168027 230.546684 \nL 795.159762 244.284645 \nL 836.151498 230.546684 \nL 877.143233 231.462534 \nL 918.134969 251.611551 \n\" clip-path=\"url(#p6d2a9de3fe)\" style=\"fill: none; stroke: #ff7f0e; stroke-width: 1.5; stroke-linecap: square\"/>\n    <g clip-path=\"url(#p6d2a9de3fe)\">\n     <use xlink:href=\"#mf10b5c998a\" x=\"549.209349\" y=\"100.493958\" style=\"fill: #ff7f0e; stroke: #ff7f0e\"/>\n     <use xlink:href=\"#mf10b5c998a\" x=\"590.201085\" y=\"189.332782\" style=\"fill: #ff7f0e; stroke: #ff7f0e\"/>\n     <use xlink:href=\"#mf10b5c998a\" x=\"631.19282\" y=\"167.352065\" style=\"fill: #ff7f0e; stroke: #ff7f0e\"/>\n     <use xlink:href=\"#mf10b5c998a\" x=\"672.184556\" y=\"208.565931\" style=\"fill: #ff7f0e; stroke: #ff7f0e\"/>\n     <use xlink:href=\"#mf10b5c998a\" x=\"713.176291\" y=\"225.051478\" style=\"fill: #ff7f0e; stroke: #ff7f0e\"/>\n     <use xlink:href=\"#mf10b5c998a\" x=\"754.168027\" y=\"230.546684\" style=\"fill: #ff7f0e; stroke: #ff7f0e\"/>\n     <use xlink:href=\"#mf10b5c998a\" x=\"795.159762\" y=\"244.284645\" style=\"fill: #ff7f0e; stroke: #ff7f0e\"/>\n     <use xlink:href=\"#mf10b5c998a\" x=\"836.151498\" y=\"230.546684\" style=\"fill: #ff7f0e; stroke: #ff7f0e\"/>\n     <use xlink:href=\"#mf10b5c998a\" x=\"877.143233\" y=\"231.462534\" style=\"fill: #ff7f0e; stroke: #ff7f0e\"/>\n     <use xlink:href=\"#mf10b5c998a\" x=\"918.134969\" y=\"251.611551\" style=\"fill: #ff7f0e; stroke: #ff7f0e\"/>\n    </g>\n   </g>\n   <g id=\"line2d_30\">\n    <path d=\"M 918.134969 240.926476 \n\" clip-path=\"url(#p6d2a9de3fe)\" style=\"fill: none; stroke: #2ca02c; stroke-width: 1.5; stroke-linecap: square\"/>\n    <g clip-path=\"url(#p6d2a9de3fe)\">\n     <use xlink:href=\"#m8d2af98bc7\" x=\"918.134969\" y=\"240.926476\" style=\"fill: #2ca02c; stroke: #2ca02c; stroke-linejoin: bevel\"/>\n    </g>\n   </g>\n   <g id=\"patch_8\">\n    <path d=\"M 530.763068 299.518125 \nL 530.763068 22.318125 \n\" style=\"fill: none; stroke: #000000; stroke-width: 0.8; stroke-linejoin: miter; stroke-linecap: square\"/>\n   </g>\n   <g id=\"patch_9\">\n    <path d=\"M 936.58125 299.518125 \nL 936.58125 22.318125 \n\" style=\"fill: none; stroke: #000000; stroke-width: 0.8; stroke-linejoin: miter; stroke-linecap: square\"/>\n   </g>\n   <g id=\"patch_10\">\n    <path d=\"M 530.763068 299.518125 \nL 936.58125 299.518125 \n\" style=\"fill: none; stroke: #000000; stroke-width: 0.8; stroke-linejoin: miter; stroke-linecap: square\"/>\n   </g>\n   <g id=\"patch_11\">\n    <path d=\"M 530.763068 22.318125 \nL 936.58125 22.318125 \n\" style=\"fill: none; stroke: #000000; stroke-width: 0.8; stroke-linejoin: miter; stroke-linecap: square\"/>\n   </g>\n   <g id=\"text_30\">\n    <!-- Final model test error rate: 24.97% -->\n    <g transform=\"translate(628.494034 16.318125) scale(0.12 -0.12)\">\n     <defs>\n      <path id=\"DejaVuSans-46\" d=\"M 628 4666 \nL 3309 4666 \nL 3309 4134 \nL 1259 4134 \nL 1259 2759 \nL 3109 2759 \nL 3109 2228 \nL 1259 2228 \nL 1259 0 \nL 628 0 \nL 628 4666 \nz\n\" transform=\"scale(0.015625)\"/>\n      <path id=\"DejaVuSans-69\" d=\"M 603 3500 \nL 1178 3500 \nL 1178 0 \nL 603 0 \nL 603 3500 \nz\nM 603 4863 \nL 1178 4863 \nL 1178 4134 \nL 603 4134 \nL 603 4863 \nz\n\" transform=\"scale(0.015625)\"/>\n      <path id=\"DejaVuSans-6e\" d=\"M 3513 2113 \nL 3513 0 \nL 2938 0 \nL 2938 2094 \nQ 2938 2591 2744 2837 \nQ 2550 3084 2163 3084 \nQ 1697 3084 1428 2787 \nQ 1159 2491 1159 1978 \nL 1159 0 \nL 581 0 \nL 581 3500 \nL 1159 3500 \nL 1159 2956 \nQ 1366 3272 1645 3428 \nQ 1925 3584 2291 3584 \nQ 2894 3584 3203 3211 \nQ 3513 2838 3513 2113 \nz\n\" transform=\"scale(0.015625)\"/>\n      <path id=\"DejaVuSans-6d\" d=\"M 3328 2828 \nQ 3544 3216 3844 3400 \nQ 4144 3584 4550 3584 \nQ 5097 3584 5394 3201 \nQ 5691 2819 5691 2113 \nL 5691 0 \nL 5113 0 \nL 5113 2094 \nQ 5113 2597 4934 2840 \nQ 4756 3084 4391 3084 \nQ 3944 3084 3684 2787 \nQ 3425 2491 3425 1978 \nL 3425 0 \nL 2847 0 \nL 2847 2094 \nQ 2847 2600 2669 2842 \nQ 2491 3084 2119 3084 \nQ 1678 3084 1418 2786 \nQ 1159 2488 1159 1978 \nL 1159 0 \nL 581 0 \nL 581 3500 \nL 1159 3500 \nL 1159 2956 \nQ 1356 3278 1631 3431 \nQ 1906 3584 2284 3584 \nQ 2666 3584 2933 3390 \nQ 3200 3197 3328 2828 \nz\n\" transform=\"scale(0.015625)\"/>\n      <path id=\"DejaVuSans-3a\" d=\"M 750 794 \nL 1409 794 \nL 1409 0 \nL 750 0 \nL 750 794 \nz\nM 750 3309 \nL 1409 3309 \nL 1409 2516 \nL 750 2516 \nL 750 3309 \nz\n\" transform=\"scale(0.015625)\"/>\n     </defs>\n     <use xlink:href=\"#DejaVuSans-46\"/>\n     <use xlink:href=\"#DejaVuSans-69\" x=\"50.269531\"/>\n     <use xlink:href=\"#DejaVuSans-6e\" x=\"78.052734\"/>\n     <use xlink:href=\"#DejaVuSans-61\" x=\"141.431641\"/>\n     <use xlink:href=\"#DejaVuSans-6c\" x=\"202.710938\"/>\n     <use xlink:href=\"#DejaVuSans-20\" x=\"230.494141\"/>\n     <use xlink:href=\"#DejaVuSans-6d\" x=\"262.28125\"/>\n     <use xlink:href=\"#DejaVuSans-6f\" x=\"359.693359\"/>\n     <use xlink:href=\"#DejaVuSans-64\" x=\"420.875\"/>\n     <use xlink:href=\"#DejaVuSans-65\" x=\"484.351562\"/>\n     <use xlink:href=\"#DejaVuSans-6c\" x=\"545.875\"/>\n     <use xlink:href=\"#DejaVuSans-20\" x=\"573.658203\"/>\n     <use xlink:href=\"#DejaVuSans-74\" x=\"605.445312\"/>\n     <use xlink:href=\"#DejaVuSans-65\" x=\"644.654297\"/>\n     <use xlink:href=\"#DejaVuSans-73\" x=\"706.177734\"/>\n     <use xlink:href=\"#DejaVuSans-74\" x=\"758.277344\"/>\n     <use xlink:href=\"#DejaVuSans-20\" x=\"797.486328\"/>\n     <use xlink:href=\"#DejaVuSans-65\" x=\"829.273438\"/>\n     <use xlink:href=\"#DejaVuSans-72\" x=\"890.796875\"/>\n     <use xlink:href=\"#DejaVuSans-72\" x=\"930.160156\"/>\n     <use xlink:href=\"#DejaVuSans-6f\" x=\"969.023438\"/>\n     <use xlink:href=\"#DejaVuSans-72\" x=\"1030.205078\"/>\n     <use xlink:href=\"#DejaVuSans-20\" x=\"1071.318359\"/>\n     <use xlink:href=\"#DejaVuSans-72\" x=\"1103.105469\"/>\n     <use xlink:href=\"#DejaVuSans-61\" x=\"1144.21875\"/>\n     <use xlink:href=\"#DejaVuSans-74\" x=\"1205.498047\"/>\n     <use xlink:href=\"#DejaVuSans-65\" x=\"1244.707031\"/>\n     <use xlink:href=\"#DejaVuSans-3a\" x=\"1306.230469\"/>\n     <use xlink:href=\"#DejaVuSans-20\" x=\"1339.921875\"/>\n     <use xlink:href=\"#DejaVuSans-32\" x=\"1371.708984\"/>\n     <use xlink:href=\"#DejaVuSans-34\" x=\"1435.332031\"/>\n     <use xlink:href=\"#DejaVuSans-2e\" x=\"1498.955078\"/>\n     <use xlink:href=\"#DejaVuSans-39\" x=\"1530.742188\"/>\n     <use xlink:href=\"#DejaVuSans-37\" x=\"1594.365234\"/>\n     <use xlink:href=\"#DejaVuSans-25\" x=\"1657.988281\"/>\n    </g>\n   </g>\n   <g id=\"legend_1\">\n    <g id=\"patch_12\">\n     <path d=\"M 873.59375 59.674375 \nL 929.58125 59.674375 \nQ 931.58125 59.674375 931.58125 57.674375 \nL 931.58125 29.318125 \nQ 931.58125 27.318125 929.58125 27.318125 \nL 873.59375 27.318125 \nQ 871.59375 27.318125 871.59375 29.318125 \nL 871.59375 57.674375 \nQ 871.59375 59.674375 873.59375 59.674375 \nz\n\" style=\"fill: #ffffff; opacity: 0.8; stroke: #cccccc; stroke-linejoin: miter\"/>\n    </g>\n    <g id=\"line2d_31\">\n     <path d=\"M 875.59375 35.416562 \nL 885.59375 35.416562 \nL 895.59375 35.416562 \n\" style=\"fill: none; stroke: #1f77b4; stroke-width: 1.5; stroke-linecap: square\"/>\n     <g>\n      <use xlink:href=\"#mf9e36f66cd\" x=\"885.59375\" y=\"35.416562\" style=\"fill: #1f77b4; stroke: #1f77b4; stroke-linejoin: miter\"/>\n     </g>\n    </g>\n    <g id=\"text_31\">\n     <!-- Train -->\n     <g transform=\"translate(903.59375 38.916562) scale(0.1 -0.1)\">\n      <defs>\n       <path id=\"DejaVuSans-54\" d=\"M -19 4666 \nL 3928 4666 \nL 3928 4134 \nL 2272 4134 \nL 2272 0 \nL 1638 0 \nL 1638 4134 \nL -19 4134 \nL -19 4666 \nz\n\" transform=\"scale(0.015625)\"/>\n      </defs>\n      <use xlink:href=\"#DejaVuSans-54\"/>\n      <use xlink:href=\"#DejaVuSans-72\" x=\"46.333984\"/>\n      <use xlink:href=\"#DejaVuSans-61\" x=\"87.447266\"/>\n      <use xlink:href=\"#DejaVuSans-69\" x=\"148.726562\"/>\n      <use xlink:href=\"#DejaVuSans-6e\" x=\"176.509766\"/>\n     </g>\n    </g>\n    <g id=\"line2d_32\">\n     <path d=\"M 875.59375 50.094688 \nL 885.59375 50.094688 \nL 895.59375 50.094688 \n\" style=\"fill: none; stroke: #ff7f0e; stroke-width: 1.5; stroke-linecap: square\"/>\n     <g>\n      <use xlink:href=\"#mf10b5c998a\" x=\"885.59375\" y=\"50.094688\" style=\"fill: #ff7f0e; stroke: #ff7f0e\"/>\n     </g>\n    </g>\n    <g id=\"text_32\">\n     <!-- Dev -->\n     <g transform=\"translate(903.59375 53.594688) scale(0.1 -0.1)\">\n      <defs>\n       <path id=\"DejaVuSans-44\" d=\"M 1259 4147 \nL 1259 519 \nL 2022 519 \nQ 2988 519 3436 956 \nQ 3884 1394 3884 2338 \nQ 3884 3275 3436 3711 \nQ 2988 4147 2022 4147 \nL 1259 4147 \nz\nM 628 4666 \nL 1925 4666 \nQ 3281 4666 3915 4102 \nQ 4550 3538 4550 2338 \nQ 4550 1131 3912 565 \nQ 3275 0 1925 0 \nL 628 0 \nL 628 4666 \nz\n\" transform=\"scale(0.015625)\"/>\n       <path id=\"DejaVuSans-76\" d=\"M 191 3500 \nL 800 3500 \nL 1894 563 \nL 2988 3500 \nL 3597 3500 \nL 2284 0 \nL 1503 0 \nL 191 3500 \nz\n\" transform=\"scale(0.015625)\"/>\n      </defs>\n      <use xlink:href=\"#DejaVuSans-44\"/>\n      <use xlink:href=\"#DejaVuSans-65\" x=\"77.001953\"/>\n      <use xlink:href=\"#DejaVuSans-76\" x=\"138.525391\"/>\n     </g>\n    </g>\n   </g>\n  </g>\n </g>\n <defs>\n  <clipPath id=\"p640deb9010\">\n   <rect x=\"43.78125\" y=\"22.318125\" width=\"405.818182\" height=\"277.2\"/>\n  </clipPath>\n  <clipPath id=\"p6d2a9de3fe\">\n   <rect x=\"530.763068\" y=\"22.318125\" width=\"405.818182\" height=\"277.2\"/>\n  </clipPath>\n </defs>\n</svg>\n"
          },
          "metadata": {}
        }
      ]
    },
    {
      "cell_type": "code",
      "source": [],
      "metadata": {
        "id": "_No8gcqkf_zj"
      },
      "execution_count": null,
      "outputs": []
    }
  ]
}