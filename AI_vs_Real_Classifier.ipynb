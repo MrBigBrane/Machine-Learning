{
  "nbformat": 4,
  "nbformat_minor": 0,
  "metadata": {
    "colab": {
      "provenance": [],
      "gpuType": "T4",
      "authorship_tag": "ABX9TyOoLDCGE44wrzccd0mnWgne",
      "include_colab_link": true
    },
    "kernelspec": {
      "name": "python3",
      "display_name": "Python 3"
    },
    "language_info": {
      "name": "python"
    },
    "accelerator": "GPU"
  },
  "cells": [
    {
      "cell_type": "markdown",
      "metadata": {
        "id": "view-in-github",
        "colab_type": "text"
      },
      "source": [
        "<a href=\"https://colab.research.google.com/github/MrBigBrane/Machine-Learning/blob/main/AI_vs_Real_Classifier.ipynb\" target=\"_parent\"><img src=\"https://colab.research.google.com/assets/colab-badge.svg\" alt=\"Open In Colab\"/></a>"
      ]
    },
    {
      "cell_type": "code",
      "execution_count": 22,
      "metadata": {
        "id": "cmNzHGYbzHp0"
      },
      "outputs": [],
      "source": [
        "# import libraries\n",
        "import numpy as np\n",
        "import pandas as pd\n",
        "\n",
        "import os\n",
        "from PIL import Image\n",
        "\n",
        "import torch\n",
        "import torch.nn as nn\n",
        "import torch.nn.functional as F\n",
        "from torch.utils.data import DataLoader,TensorDataset\n",
        "from sklearn.model_selection import train_test_split\n",
        "from torchvision import transforms\n",
        "from torch.utils.data import Dataset\n",
        "\n",
        "# for getting summary info on models\n",
        "from torchsummary import summary\n",
        "\n",
        "import matplotlib.pyplot as plt\n",
        "import matplotlib_inline.backend_inline\n",
        "matplotlib_inline.backend_inline.set_matplotlib_formats('svg')\n",
        "\n",
        "import kagglehub"
      ]
    },
    {
      "cell_type": "code",
      "source": [
        "# use GPU if available\n",
        "device = torch.device('cuda:0' if torch.cuda.is_available() else 'cpu')"
      ],
      "metadata": {
        "id": "EK0Hfw09zOso"
      },
      "execution_count": null,
      "outputs": []
    },
    {
      "cell_type": "markdown",
      "source": [
        "## Data Preprocessing"
      ],
      "metadata": {
        "id": "BnHd7Fr1zWRe"
      }
    },
    {
      "cell_type": "code",
      "source": [
        "# from google.colab import files\n",
        "# files.upload()\n",
        "\n",
        "# ! rm -r ~/.kaggle\n",
        "# ! mkdir ~/.kaggle\n",
        "# ! cp kaggle.json ~/.kaggle/\n",
        "# ! chmod 600 ~/.kaggle/kaggle.json\n",
        "\n",
        "# !kaggle competitions download -c detect-ai-vs-human-generated-images\n",
        "\n",
        "# !unzip /content/detect-ai-vs-human-generated-images -d /content/aivshuman"
      ],
      "metadata": {
        "colab": {
          "base_uri": "https://localhost:8080/",
          "height": 142
        },
        "id": "bsPBAKxcza71",
        "outputId": "7de17229-e720-465c-d8e6-80bc3f4e45dc"
      },
      "execution_count": 3,
      "outputs": [
        {
          "output_type": "display_data",
          "data": {
            "text/plain": [
              "<IPython.core.display.HTML object>"
            ],
            "text/html": [
              "\n",
              "     <input type=\"file\" id=\"files-e07dec59-2a58-4683-8a60-524fcf35d37a\" name=\"files[]\" multiple disabled\n",
              "        style=\"border:none\" />\n",
              "     <output id=\"result-e07dec59-2a58-4683-8a60-524fcf35d37a\">\n",
              "      Upload widget is only available when the cell has been executed in the\n",
              "      current browser session. Please rerun this cell to enable.\n",
              "      </output>\n",
              "      <script>// Copyright 2017 Google LLC\n",
              "//\n",
              "// Licensed under the Apache License, Version 2.0 (the \"License\");\n",
              "// you may not use this file except in compliance with the License.\n",
              "// You may obtain a copy of the License at\n",
              "//\n",
              "//      http://www.apache.org/licenses/LICENSE-2.0\n",
              "//\n",
              "// Unless required by applicable law or agreed to in writing, software\n",
              "// distributed under the License is distributed on an \"AS IS\" BASIS,\n",
              "// WITHOUT WARRANTIES OR CONDITIONS OF ANY KIND, either express or implied.\n",
              "// See the License for the specific language governing permissions and\n",
              "// limitations under the License.\n",
              "\n",
              "/**\n",
              " * @fileoverview Helpers for google.colab Python module.\n",
              " */\n",
              "(function(scope) {\n",
              "function span(text, styleAttributes = {}) {\n",
              "  const element = document.createElement('span');\n",
              "  element.textContent = text;\n",
              "  for (const key of Object.keys(styleAttributes)) {\n",
              "    element.style[key] = styleAttributes[key];\n",
              "  }\n",
              "  return element;\n",
              "}\n",
              "\n",
              "// Max number of bytes which will be uploaded at a time.\n",
              "const MAX_PAYLOAD_SIZE = 100 * 1024;\n",
              "\n",
              "function _uploadFiles(inputId, outputId) {\n",
              "  const steps = uploadFilesStep(inputId, outputId);\n",
              "  const outputElement = document.getElementById(outputId);\n",
              "  // Cache steps on the outputElement to make it available for the next call\n",
              "  // to uploadFilesContinue from Python.\n",
              "  outputElement.steps = steps;\n",
              "\n",
              "  return _uploadFilesContinue(outputId);\n",
              "}\n",
              "\n",
              "// This is roughly an async generator (not supported in the browser yet),\n",
              "// where there are multiple asynchronous steps and the Python side is going\n",
              "// to poll for completion of each step.\n",
              "// This uses a Promise to block the python side on completion of each step,\n",
              "// then passes the result of the previous step as the input to the next step.\n",
              "function _uploadFilesContinue(outputId) {\n",
              "  const outputElement = document.getElementById(outputId);\n",
              "  const steps = outputElement.steps;\n",
              "\n",
              "  const next = steps.next(outputElement.lastPromiseValue);\n",
              "  return Promise.resolve(next.value.promise).then((value) => {\n",
              "    // Cache the last promise value to make it available to the next\n",
              "    // step of the generator.\n",
              "    outputElement.lastPromiseValue = value;\n",
              "    return next.value.response;\n",
              "  });\n",
              "}\n",
              "\n",
              "/**\n",
              " * Generator function which is called between each async step of the upload\n",
              " * process.\n",
              " * @param {string} inputId Element ID of the input file picker element.\n",
              " * @param {string} outputId Element ID of the output display.\n",
              " * @return {!Iterable<!Object>} Iterable of next steps.\n",
              " */\n",
              "function* uploadFilesStep(inputId, outputId) {\n",
              "  const inputElement = document.getElementById(inputId);\n",
              "  inputElement.disabled = false;\n",
              "\n",
              "  const outputElement = document.getElementById(outputId);\n",
              "  outputElement.innerHTML = '';\n",
              "\n",
              "  const pickedPromise = new Promise((resolve) => {\n",
              "    inputElement.addEventListener('change', (e) => {\n",
              "      resolve(e.target.files);\n",
              "    });\n",
              "  });\n",
              "\n",
              "  const cancel = document.createElement('button');\n",
              "  inputElement.parentElement.appendChild(cancel);\n",
              "  cancel.textContent = 'Cancel upload';\n",
              "  const cancelPromise = new Promise((resolve) => {\n",
              "    cancel.onclick = () => {\n",
              "      resolve(null);\n",
              "    };\n",
              "  });\n",
              "\n",
              "  // Wait for the user to pick the files.\n",
              "  const files = yield {\n",
              "    promise: Promise.race([pickedPromise, cancelPromise]),\n",
              "    response: {\n",
              "      action: 'starting',\n",
              "    }\n",
              "  };\n",
              "\n",
              "  cancel.remove();\n",
              "\n",
              "  // Disable the input element since further picks are not allowed.\n",
              "  inputElement.disabled = true;\n",
              "\n",
              "  if (!files) {\n",
              "    return {\n",
              "      response: {\n",
              "        action: 'complete',\n",
              "      }\n",
              "    };\n",
              "  }\n",
              "\n",
              "  for (const file of files) {\n",
              "    const li = document.createElement('li');\n",
              "    li.append(span(file.name, {fontWeight: 'bold'}));\n",
              "    li.append(span(\n",
              "        `(${file.type || 'n/a'}) - ${file.size} bytes, ` +\n",
              "        `last modified: ${\n",
              "            file.lastModifiedDate ? file.lastModifiedDate.toLocaleDateString() :\n",
              "                                    'n/a'} - `));\n",
              "    const percent = span('0% done');\n",
              "    li.appendChild(percent);\n",
              "\n",
              "    outputElement.appendChild(li);\n",
              "\n",
              "    const fileDataPromise = new Promise((resolve) => {\n",
              "      const reader = new FileReader();\n",
              "      reader.onload = (e) => {\n",
              "        resolve(e.target.result);\n",
              "      };\n",
              "      reader.readAsArrayBuffer(file);\n",
              "    });\n",
              "    // Wait for the data to be ready.\n",
              "    let fileData = yield {\n",
              "      promise: fileDataPromise,\n",
              "      response: {\n",
              "        action: 'continue',\n",
              "      }\n",
              "    };\n",
              "\n",
              "    // Use a chunked sending to avoid message size limits. See b/62115660.\n",
              "    let position = 0;\n",
              "    do {\n",
              "      const length = Math.min(fileData.byteLength - position, MAX_PAYLOAD_SIZE);\n",
              "      const chunk = new Uint8Array(fileData, position, length);\n",
              "      position += length;\n",
              "\n",
              "      const base64 = btoa(String.fromCharCode.apply(null, chunk));\n",
              "      yield {\n",
              "        response: {\n",
              "          action: 'append',\n",
              "          file: file.name,\n",
              "          data: base64,\n",
              "        },\n",
              "      };\n",
              "\n",
              "      let percentDone = fileData.byteLength === 0 ?\n",
              "          100 :\n",
              "          Math.round((position / fileData.byteLength) * 100);\n",
              "      percent.textContent = `${percentDone}% done`;\n",
              "\n",
              "    } while (position < fileData.byteLength);\n",
              "  }\n",
              "\n",
              "  // All done.\n",
              "  yield {\n",
              "    response: {\n",
              "      action: 'complete',\n",
              "    }\n",
              "  };\n",
              "}\n",
              "\n",
              "scope.google = scope.google || {};\n",
              "scope.google.colab = scope.google.colab || {};\n",
              "scope.google.colab._files = {\n",
              "  _uploadFiles,\n",
              "  _uploadFilesContinue,\n",
              "};\n",
              "})(self);\n",
              "</script> "
            ]
          },
          "metadata": {}
        },
        {
          "output_type": "stream",
          "name": "stdout",
          "text": [
            "Saving kaggle.json to kaggle (1).json\n",
            "detect-ai-vs-human-generated-images.zip: Skipping, found more recently modified local copy (use --force to force download)\n",
            "Archive:  /content/detect-ai-vs-human-generated-images.zip\n",
            "  inflating: /content/aivshuman/test.csv  \n",
            "  inflating: /content/aivshuman/train.csv  \n"
          ]
        }
      ]
    },
    {
      "cell_type": "code",
      "source": [
        "# Download latest version\n",
        "path = kagglehub.dataset_download(\"alessandrasala79/ai-vs-human-generated-dataset\")\n",
        "\n",
        "print(\"Path to dataset files:\", path)"
      ],
      "metadata": {
        "colab": {
          "base_uri": "https://localhost:8080/"
        },
        "id": "Ce2dr1nf_ZRj",
        "outputId": "177537da-3645-4917-b73c-cbf2aefd2571"
      },
      "execution_count": 23,
      "outputs": [
        {
          "output_type": "stream",
          "name": "stdout",
          "text": [
            "Warning: Looks like you're using an outdated `kagglehub` version (installed: 0.3.6), please consider upgrading to the latest version (0.3.7).\n",
            "Downloading from https://www.kaggle.com/api/v1/datasets/download/alessandrasala79/ai-vs-human-generated-dataset?dataset_version_number=4...\n"
          ]
        },
        {
          "output_type": "stream",
          "name": "stderr",
          "text": [
            "100%|██████████| 9.76G/9.76G [02:04<00:00, 83.9MB/s]"
          ]
        },
        {
          "output_type": "stream",
          "name": "stdout",
          "text": [
            "Extracting files...\n"
          ]
        },
        {
          "output_type": "stream",
          "name": "stderr",
          "text": [
            "\n"
          ]
        },
        {
          "output_type": "stream",
          "name": "stdout",
          "text": [
            "Path to dataset files: /root/.cache/kagglehub/datasets/alessandrasala79/ai-vs-human-generated-dataset/versions/4\n"
          ]
        }
      ]
    },
    {
      "cell_type": "code",
      "source": [
        "test = pd.read_csv('/root/.cache/kagglehub/datasets/alessandrasala79/ai-vs-human-generated-dataset/versions/4/test.csv')\n",
        "train = pd.read_csv('/root/.cache/kagglehub/datasets/alessandrasala79/ai-vs-human-generated-dataset/versions/4/train.csv')\n",
        "\n",
        "train = train[['file_name', 'label']]\n",
        "train.columns = ['id', 'label']\n",
        "\n",
        "ids = test.index.tolist()\n",
        "ids = [i+1 for i in ids]"
      ],
      "metadata": {
        "id": "9RTiJB4Vz1OM"
      },
      "execution_count": 34,
      "outputs": []
    },
    {
      "cell_type": "code",
      "source": [
        "img_name = os.path.join('/root/.cache/kagglehub/datasets/alessandrasala79/ai-vs-human-generated-dataset/versions/4', train.iloc[300, 0])\n",
        "image = Image.open(img_name).convert('RGB')"
      ],
      "metadata": {
        "id": "UQD8XEiB1vcW"
      },
      "execution_count": 31,
      "outputs": []
    },
    {
      "cell_type": "code",
      "source": [
        "class AIImageDataset(Dataset):\n",
        "    def __init__(self, dataframe, root_dir, transform=None):\n",
        "        self.dataframe = dataframe\n",
        "        self.root_dir = root_dir\n",
        "        self.transform = transform\n",
        "\n",
        "    def __len__(self):\n",
        "        return len(self.dataframe)\n",
        "\n",
        "    def __getitem__(self, idx):\n",
        "        img_name = os.path.join(self.root_dir, self.dataframe.iloc[idx, 0])\n",
        "        image = Image.open(img_name).convert('RGB')\n",
        "\n",
        "        if self.transform:\n",
        "            image = self.transform(image)\n",
        "\n",
        "        label = self.dataframe.iloc[idx, 1]\n",
        "        return image, label"
      ],
      "metadata": {
        "id": "jRX4dHJ_4JbU"
      },
      "execution_count": 35,
      "outputs": []
    },
    {
      "cell_type": "code",
      "source": [
        "train_transforms = transforms.Compose([\n",
        "    transforms.Resize(28),  # Resize to match ConvNeXt preprocessing\n",
        "    transforms.RandomResizedCrop(28),\n",
        "    # transforms.RandomHorizontalFlip(),\n",
        "    # transforms.ColorJitter(brightness=0.2, contrast=0.2, saturation=0.2, hue=0.1),\n",
        "    transforms.ToTensor(),\n",
        "    transforms.Normalize(mean=[0.485, 0.456, 0.406], std=[0.229, 0.224, 0.225])\n",
        "])\n",
        "\n",
        "train_dataset = AIImageDataset(train, '/root/.cache/kagglehub/datasets/alessandrasala79/ai-vs-human-generated-dataset/versions/4', transform=train_transforms)"
      ],
      "metadata": {
        "id": "5MU3zsxJB6Uv"
      },
      "execution_count": 54,
      "outputs": []
    },
    {
      "cell_type": "code",
      "source": [
        "train_loader = DataLoader(train_dataset, batch_size=32, shuffle=True)"
      ],
      "metadata": {
        "id": "XrHMh4ORF2ss"
      },
      "execution_count": 55,
      "outputs": []
    },
    {
      "cell_type": "code",
      "source": [
        "# create a class for the model\n",
        "def makeTheNet(printtoggle=False):\n",
        "\n",
        "  class mnistnet(nn.Module):\n",
        "    def __init__(self,printtoggle):\n",
        "      super().__init__()\n",
        "\n",
        "      # print toggle\n",
        "      self.print = printtoggle\n",
        "\n",
        "      ### -------------- feature map layers -------------- ###\n",
        "      # first convolution layer\n",
        "      self.conv1  = nn.Conv2d(3,32,3,padding=2)\n",
        "      self.bnorm1 = nn.BatchNorm2d(32) # input the number of channels in this layer\n",
        "      # output size: (28+2*2-3)/1 + 1 = 30/2 = 15 (/2 b/c maxpool)\n",
        "\n",
        "      # second convolution layer\n",
        "      self.conv2  = nn.Conv2d(32,64,3,padding=2)\n",
        "      self.bnorm2 = nn.BatchNorm2d(64) # input the number of channels in this layer\n",
        "      # output size: (15+2*2-3)/1 + 1 = 17/2 = 8 (/2 b/c maxpool)\n",
        "\n",
        "      # third convolution layer\n",
        "      self.conv3  = nn.Conv2d(64,128,3,padding=2)\n",
        "      self.bnorm3 = nn.BatchNorm2d(128) # input the number of channels in this layer\n",
        "      # output size: (8+2*2-3)/1 + 1 = 10/2 = 5 (/2 b/c maxpool)\n",
        "\n",
        "      # fourth convolution layer\n",
        "      self.conv4  = nn.Conv2d(128,256,3,padding=2)\n",
        "      self.bnorm4 = nn.BatchNorm2d(256) # input the number of channels in this layer\n",
        "      # output size: (4+2*2-3)/1 + 1 = 6/2 = 3 (/2 b/c maxpool)\n",
        "\n",
        "      # fifth convolution layer\n",
        "      self.conv5  = nn.Conv2d(256,512,3,padding=2)\n",
        "      self.bnorm5 = nn.BatchNorm2d(512) # input the number of channels in this layer\n",
        "      # output size: (3+2*2-3)/1 + 1 = 5/2 = 2 (/2 b/c maxpool)\n",
        "\n",
        "      ### -------------- linear decision layers -------------- ###\n",
        "      self.fc1 = nn.Linear(2*2*512,512)\n",
        "      self.fc2 = nn.Linear(512, 10)\n",
        "\n",
        "    def forward(self,x):\n",
        "\n",
        "      if self.print: print(f'Input: {list(x.shape)}')\n",
        "\n",
        "      # first block: convolution -> maxpool -> batchnorm -> relu\n",
        "      x = F.max_pool2d(self.conv1(x),2)\n",
        "      x = F.leaky_relu(self.bnorm1(x))\n",
        "      if self.print: print(f'First CPR block: {list(x.shape)}')\n",
        "\n",
        "      # second block: convolution -> maxpool -> batchnorm -> relu\n",
        "      x = F.max_pool2d(self.conv2(x),2)\n",
        "      x = F.leaky_relu(self.bnorm2(x))\n",
        "      if self.print: print(f'Second CPR block: {list(x.shape)}')\n",
        "\n",
        "      # third block: convolution -> maxpool -> batchnorm -> relu\n",
        "      x = F.max_pool2d(self.conv3(x),2)\n",
        "      x = F.leaky_relu(self.bnorm3(x))\n",
        "      if self.print: print(f'Third CPR block: {list(x.shape)}')\n",
        "\n",
        "      # fourth block: convolution -> maxpool -> batchnorm -> relu\n",
        "      x = F.max_pool2d(self.conv4(x),2)\n",
        "      x = F.leaky_relu(self.bnorm4(x))\n",
        "      if self.print: print(f'Fourth CPR block: {list(x.shape)}')\n",
        "\n",
        "      # fifth block: convolution -> maxpool -> batchnorm -> relu\n",
        "      x = F.max_pool2d(self.conv5(x),2)\n",
        "      x = F.leaky_relu(self.bnorm5(x))\n",
        "      if self.print: print(f'Fourth CPR block: {list(x.shape)}')\n",
        "\n",
        "      # reshape for linear layer\n",
        "      nUnits = x.shape.numel()/x.shape[0]\n",
        "      x = x.view(-1,int(nUnits))\n",
        "      if self.print: print(f'Vectorized: {list(x.shape)}')\n",
        "\n",
        "      # linear layers\n",
        "      x = F.leaky_relu(self.fc1(x))\n",
        "      x = self.fc2(x)\n",
        "      if self.print: print(f'Final output: {list(x.shape)}')\n",
        "\n",
        "      return x\n",
        "\n",
        "  # create the model instance\n",
        "  net = mnistnet(printtoggle)\n",
        "\n",
        "  # loss function\n",
        "  lossfun = nn.CrossEntropyLoss()\n",
        "\n",
        "  # optimizer\n",
        "  optimizer = torch.optim.Adam(net.parameters(),lr=.00001,weight_decay=5e-3)\n",
        "\n",
        "  return net,lossfun,optimizer"
      ],
      "metadata": {
        "id": "VyJeIDkZGKpW"
      },
      "execution_count": 56,
      "outputs": []
    },
    {
      "cell_type": "code",
      "source": [
        "X, y = next(iter(train_loader))\n",
        "net,lossfun,optimizer = makeTheNet(printtoggle=True)\n",
        "yTest = net(X)"
      ],
      "metadata": {
        "colab": {
          "base_uri": "https://localhost:8080/"
        },
        "id": "QnSTWPrtGP7i",
        "outputId": "6206000c-d14d-4f83-fc4d-99ef97d0794b"
      },
      "execution_count": 57,
      "outputs": [
        {
          "output_type": "stream",
          "name": "stdout",
          "text": [
            "Input: [32, 3, 28, 28]\n",
            "First CPR block: [32, 32, 15, 15]\n",
            "Second CPR block: [32, 64, 8, 8]\n",
            "Third CPR block: [32, 128, 5, 5]\n",
            "Fourth CPR block: [32, 256, 3, 3]\n",
            "Fourth CPR block: [32, 512, 2, 2]\n",
            "Vectorized: [32, 2048]\n",
            "Final output: [32, 10]\n"
          ]
        }
      ]
    },
    {
      "cell_type": "code",
      "source": [
        "# a function that trains the model\n",
        "\n",
        "def function2trainTheModel():\n",
        "\n",
        "  # number of epochs\n",
        "  numepochs = 1\n",
        "\n",
        "  # create a new model\n",
        "  net,lossfun,optimizer = makeTheNet()\n",
        "\n",
        "  # send the model to the GPU\n",
        "  net.to(device)\n",
        "\n",
        "  # initialize losses\n",
        "  trainLoss = torch.zeros(numepochs)\n",
        "  testLoss  = torch.zeros(numepochs)\n",
        "  trainErr  = torch.zeros(numepochs)\n",
        "  testErr   = torch.zeros(numepochs)\n",
        "\n",
        "\n",
        "  # loop over epochs\n",
        "  for epochi in range(numepochs):\n",
        "\n",
        "    # loop over training data batches\n",
        "    net.train()\n",
        "    batchLoss = []\n",
        "    batchErr  = []\n",
        "    for X,y in train_loader:\n",
        "\n",
        "      # push data to GPU\n",
        "      X = X.to(device)\n",
        "      y = y.to(device)\n",
        "\n",
        "      # forward pass and loss\n",
        "      yHat = net(X)\n",
        "      loss = lossfun(yHat,y)\n",
        "\n",
        "      # backprop\n",
        "      optimizer.zero_grad()\n",
        "      loss.backward()\n",
        "      optimizer.step()\n",
        "\n",
        "      # loss and error from this batch\n",
        "      batchLoss.append(loss.item())\n",
        "      batchErr.append( torch.mean((torch.argmax(yHat,axis=1) != y).float()).item() )\n",
        "    # end of batch loop...\n",
        "\n",
        "    # and get average losses and error rates across the batches\n",
        "    trainLoss[epochi] = np.mean(batchLoss)\n",
        "    trainErr[epochi]  = 100*np.mean(batchErr)\n",
        "\n",
        "\n",
        "\n",
        "    # ### test performance\n",
        "    # net.eval()\n",
        "    # X,y = next(iter(validation_loader)) # extract X,y from test dataloader\n",
        "\n",
        "    # # push data to GPU\n",
        "    # X = X.to(device)\n",
        "    # y = y.to(device)\n",
        "\n",
        "    # with torch.no_grad(): # deactivates autograd\n",
        "    #   yHat = net(X)\n",
        "    #   loss = lossfun(yHat,y)\n",
        "\n",
        "    # # get loss and error rate from the test batch\n",
        "    # testLoss[epochi] = loss.item()\n",
        "    # testErr[epochi]  = 100*torch.mean((torch.argmax(yHat,axis=1) != y).float()).item()\n",
        "\n",
        "  # end epochs\n",
        "\n",
        "  # function output\n",
        "  return trainLoss,testLoss,trainErr,testErr,net"
      ],
      "metadata": {
        "id": "bi6drDM9GSfR"
      },
      "execution_count": null,
      "outputs": []
    },
    {
      "cell_type": "code",
      "source": [
        "trainLoss,testLoss,trainErr,testErr,net = function2trainTheModel()"
      ],
      "metadata": {
        "id": "Q_dNktAUISds"
      },
      "execution_count": null,
      "outputs": []
    },
    {
      "cell_type": "code",
      "source": [
        "fig,ax = plt.subplots(1,2,figsize=(16,5))\n",
        "\n",
        "ax[0].plot(trainLoss,'s-',label='Train')\n",
        "ax[0].plot(testLoss,'o-',label='Test')\n",
        "ax[0].set_xlabel('Epochs')\n",
        "ax[0].set_ylabel('Loss (MSE)')\n",
        "ax[0].set_title('Model loss')\n",
        "\n",
        "ax[1].plot(trainErr,'s-',label='Train')\n",
        "ax[1].plot(testErr,'o-',label='Test')\n",
        "ax[1].set_xlabel('Epochs')\n",
        "ax[1].set_ylabel('Error rates (%)')\n",
        "ax[1].set_title(f'Final model test error rate: {testErr[-1]:.2f}%')\n",
        "ax[1].legend()\n",
        "\n",
        "plt.show()"
      ],
      "metadata": {
        "id": "MalUqkBfIVWD"
      },
      "execution_count": null,
      "outputs": []
    }
  ]
}